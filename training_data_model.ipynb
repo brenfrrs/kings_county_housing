{
 "cells": [
  {
   "cell_type": "code",
   "execution_count": 2,
   "metadata": {},
   "outputs": [],
   "source": [
    "import pandas as pd\n",
    "import numpy as np\n",
    "import matplotlib.pyplot as plt\n",
    "from sklearn.feature_selection import RFE\n",
    "import seaborn as sns\n",
    "from scipy import stats\n",
    "import warnings\n",
    "from sklearn.preprocessing import PolynomialFeatures\n",
    "from sklearn import metrics\n",
    "import statsmodels.api as sm\n",
    "from statsmodels.formula.api import ols\n",
    "from sklearn.model_selection import train_test_split\n",
    "from sklearn.metrics import mean_squared_error\n",
    "from sklearn.feature_selection import SelectKBest, f_regression,mutual_info_regression\n",
    "from sklearn.linear_model import LinearRegression, Lasso\n",
    "from sklearn.model_selection import cross_val_score\n",
    "warnings.filterwarnings('ignore')\n",
    "%matplotlib inline"
   ]
  },
  {
   "cell_type": "code",
   "execution_count": 6,
   "metadata": {},
   "outputs": [],
   "source": [
    "training_data = pd.read_csv('/Users/brendanferris/Desktop/kings_county_housing/kc_house_data_train.csv')\n",
    "bedroomsfilled = pd.read_csv('/Users/brendanferris/Desktop/kings_county_housing/EDA/bedroomsfilled.csv')\n",
    "census_data = pd.read_excel('/Users/brendanferris/Desktop/kings_county_housing/EDA/extradata.xlsx')\n",
    "training_data.drop('Unnamed: 0', axis=1, inplace=True)\n",
    "bedroomsfilled.drop('Unnamed: 0', axis=1, inplace=True)\n",
    "#census_data.drop('Unnamed: 0', axis=1, inplace=True)"
   ]
  },
  {
   "cell_type": "code",
   "execution_count": 3,
   "metadata": {},
   "outputs": [
    {
     "data": {
      "text/plain": [
       "((17290, 21), (12, 21), (70, 15))"
      ]
     },
     "execution_count": 3,
     "metadata": {},
     "output_type": "execute_result"
    }
   ],
   "source": [
    "training_data.shape, bedroomsfilled.shape, census_data.shape"
   ]
  },
  {
   "cell_type": "code",
   "execution_count": 4,
   "metadata": {},
   "outputs": [
    {
     "data": {
      "text/html": [
       "<div>\n",
       "<style scoped>\n",
       "    .dataframe tbody tr th:only-of-type {\n",
       "        vertical-align: middle;\n",
       "    }\n",
       "\n",
       "    .dataframe tbody tr th {\n",
       "        vertical-align: top;\n",
       "    }\n",
       "\n",
       "    .dataframe thead th {\n",
       "        text-align: right;\n",
       "    }\n",
       "</style>\n",
       "<table border=\"1\" class=\"dataframe\">\n",
       "  <thead>\n",
       "    <tr style=\"text-align: right;\">\n",
       "      <th></th>\n",
       "      <th>id</th>\n",
       "      <th>date</th>\n",
       "      <th>price</th>\n",
       "      <th>bedrooms</th>\n",
       "      <th>bathrooms</th>\n",
       "      <th>sqft_living</th>\n",
       "      <th>sqft_lot</th>\n",
       "      <th>floors</th>\n",
       "      <th>waterfront</th>\n",
       "      <th>view</th>\n",
       "      <th>...</th>\n",
       "      <th>grade</th>\n",
       "      <th>sqft_above</th>\n",
       "      <th>sqft_basement</th>\n",
       "      <th>yr_built</th>\n",
       "      <th>yr_renovated</th>\n",
       "      <th>zipcode</th>\n",
       "      <th>lat</th>\n",
       "      <th>long</th>\n",
       "      <th>sqft_living15</th>\n",
       "      <th>sqft_lot15</th>\n",
       "    </tr>\n",
       "  </thead>\n",
       "  <tbody>\n",
       "    <tr>\n",
       "      <th>483</th>\n",
       "      <td>3374500520</td>\n",
       "      <td>20150429T000000</td>\n",
       "      <td>355000.0</td>\n",
       "      <td>0</td>\n",
       "      <td>0.00</td>\n",
       "      <td>2460</td>\n",
       "      <td>8049</td>\n",
       "      <td>2.0</td>\n",
       "      <td>0</td>\n",
       "      <td>0</td>\n",
       "      <td>...</td>\n",
       "      <td>8</td>\n",
       "      <td>2460</td>\n",
       "      <td>0</td>\n",
       "      <td>1990</td>\n",
       "      <td>0</td>\n",
       "      <td>98031</td>\n",
       "      <td>47.4095</td>\n",
       "      <td>-122.168</td>\n",
       "      <td>2520</td>\n",
       "      <td>8050</td>\n",
       "    </tr>\n",
       "    <tr>\n",
       "      <th>1120</th>\n",
       "      <td>6306400140</td>\n",
       "      <td>20140612T000000</td>\n",
       "      <td>1095000.0</td>\n",
       "      <td>0</td>\n",
       "      <td>0.00</td>\n",
       "      <td>3064</td>\n",
       "      <td>4764</td>\n",
       "      <td>3.5</td>\n",
       "      <td>0</td>\n",
       "      <td>2</td>\n",
       "      <td>...</td>\n",
       "      <td>7</td>\n",
       "      <td>3064</td>\n",
       "      <td>0</td>\n",
       "      <td>1990</td>\n",
       "      <td>0</td>\n",
       "      <td>98102</td>\n",
       "      <td>47.6362</td>\n",
       "      <td>-122.322</td>\n",
       "      <td>2360</td>\n",
       "      <td>4000</td>\n",
       "    </tr>\n",
       "    <tr>\n",
       "      <th>2430</th>\n",
       "      <td>1222029077</td>\n",
       "      <td>20141029T000000</td>\n",
       "      <td>265000.0</td>\n",
       "      <td>0</td>\n",
       "      <td>0.75</td>\n",
       "      <td>384</td>\n",
       "      <td>213444</td>\n",
       "      <td>1.0</td>\n",
       "      <td>0</td>\n",
       "      <td>0</td>\n",
       "      <td>...</td>\n",
       "      <td>4</td>\n",
       "      <td>384</td>\n",
       "      <td>0</td>\n",
       "      <td>2003</td>\n",
       "      <td>0</td>\n",
       "      <td>98070</td>\n",
       "      <td>47.4177</td>\n",
       "      <td>-122.491</td>\n",
       "      <td>1920</td>\n",
       "      <td>224341</td>\n",
       "    </tr>\n",
       "    <tr>\n",
       "      <th>3032</th>\n",
       "      <td>7849202190</td>\n",
       "      <td>20141223T000000</td>\n",
       "      <td>235000.0</td>\n",
       "      <td>0</td>\n",
       "      <td>0.00</td>\n",
       "      <td>1470</td>\n",
       "      <td>4800</td>\n",
       "      <td>2.0</td>\n",
       "      <td>0</td>\n",
       "      <td>0</td>\n",
       "      <td>...</td>\n",
       "      <td>7</td>\n",
       "      <td>1470</td>\n",
       "      <td>0</td>\n",
       "      <td>1996</td>\n",
       "      <td>0</td>\n",
       "      <td>98065</td>\n",
       "      <td>47.5265</td>\n",
       "      <td>-121.828</td>\n",
       "      <td>1060</td>\n",
       "      <td>7200</td>\n",
       "    </tr>\n",
       "    <tr>\n",
       "      <th>3609</th>\n",
       "      <td>2569500210</td>\n",
       "      <td>20141117T000000</td>\n",
       "      <td>339950.0</td>\n",
       "      <td>0</td>\n",
       "      <td>2.50</td>\n",
       "      <td>2290</td>\n",
       "      <td>8319</td>\n",
       "      <td>2.0</td>\n",
       "      <td>0</td>\n",
       "      <td>0</td>\n",
       "      <td>...</td>\n",
       "      <td>8</td>\n",
       "      <td>2290</td>\n",
       "      <td>0</td>\n",
       "      <td>1985</td>\n",
       "      <td>0</td>\n",
       "      <td>98042</td>\n",
       "      <td>47.3473</td>\n",
       "      <td>-122.151</td>\n",
       "      <td>2500</td>\n",
       "      <td>8751</td>\n",
       "    </tr>\n",
       "    <tr>\n",
       "      <th>5424</th>\n",
       "      <td>3918400017</td>\n",
       "      <td>20150205T000000</td>\n",
       "      <td>380000.0</td>\n",
       "      <td>0</td>\n",
       "      <td>0.00</td>\n",
       "      <td>1470</td>\n",
       "      <td>979</td>\n",
       "      <td>3.0</td>\n",
       "      <td>0</td>\n",
       "      <td>2</td>\n",
       "      <td>...</td>\n",
       "      <td>8</td>\n",
       "      <td>1470</td>\n",
       "      <td>0</td>\n",
       "      <td>2006</td>\n",
       "      <td>0</td>\n",
       "      <td>98133</td>\n",
       "      <td>47.7145</td>\n",
       "      <td>-122.356</td>\n",
       "      <td>1470</td>\n",
       "      <td>1399</td>\n",
       "    </tr>\n",
       "    <tr>\n",
       "      <th>6409</th>\n",
       "      <td>1453602309</td>\n",
       "      <td>20140805T000000</td>\n",
       "      <td>288000.0</td>\n",
       "      <td>0</td>\n",
       "      <td>1.50</td>\n",
       "      <td>1430</td>\n",
       "      <td>1650</td>\n",
       "      <td>3.0</td>\n",
       "      <td>0</td>\n",
       "      <td>0</td>\n",
       "      <td>...</td>\n",
       "      <td>7</td>\n",
       "      <td>1430</td>\n",
       "      <td>0</td>\n",
       "      <td>1999</td>\n",
       "      <td>0</td>\n",
       "      <td>98125</td>\n",
       "      <td>47.7222</td>\n",
       "      <td>-122.290</td>\n",
       "      <td>1430</td>\n",
       "      <td>1650</td>\n",
       "    </tr>\n",
       "    <tr>\n",
       "      <th>9286</th>\n",
       "      <td>2954400190</td>\n",
       "      <td>20140624T000000</td>\n",
       "      <td>1295650.0</td>\n",
       "      <td>0</td>\n",
       "      <td>0.00</td>\n",
       "      <td>4810</td>\n",
       "      <td>28008</td>\n",
       "      <td>2.0</td>\n",
       "      <td>0</td>\n",
       "      <td>0</td>\n",
       "      <td>...</td>\n",
       "      <td>12</td>\n",
       "      <td>4810</td>\n",
       "      <td>0</td>\n",
       "      <td>1990</td>\n",
       "      <td>0</td>\n",
       "      <td>98053</td>\n",
       "      <td>47.6642</td>\n",
       "      <td>-122.069</td>\n",
       "      <td>4740</td>\n",
       "      <td>35061</td>\n",
       "    </tr>\n",
       "    <tr>\n",
       "      <th>10067</th>\n",
       "      <td>3980300371</td>\n",
       "      <td>20140926T000000</td>\n",
       "      <td>142000.0</td>\n",
       "      <td>0</td>\n",
       "      <td>0.00</td>\n",
       "      <td>290</td>\n",
       "      <td>20875</td>\n",
       "      <td>1.0</td>\n",
       "      <td>0</td>\n",
       "      <td>0</td>\n",
       "      <td>...</td>\n",
       "      <td>1</td>\n",
       "      <td>290</td>\n",
       "      <td>0</td>\n",
       "      <td>1963</td>\n",
       "      <td>0</td>\n",
       "      <td>98024</td>\n",
       "      <td>47.5308</td>\n",
       "      <td>-121.888</td>\n",
       "      <td>1620</td>\n",
       "      <td>22850</td>\n",
       "    </tr>\n",
       "    <tr>\n",
       "      <th>10074</th>\n",
       "      <td>2310060040</td>\n",
       "      <td>20140925T000000</td>\n",
       "      <td>240000.0</td>\n",
       "      <td>0</td>\n",
       "      <td>2.50</td>\n",
       "      <td>1810</td>\n",
       "      <td>5669</td>\n",
       "      <td>2.0</td>\n",
       "      <td>0</td>\n",
       "      <td>0</td>\n",
       "      <td>...</td>\n",
       "      <td>7</td>\n",
       "      <td>1810</td>\n",
       "      <td>0</td>\n",
       "      <td>2003</td>\n",
       "      <td>0</td>\n",
       "      <td>98038</td>\n",
       "      <td>47.3493</td>\n",
       "      <td>-122.053</td>\n",
       "      <td>1810</td>\n",
       "      <td>5685</td>\n",
       "    </tr>\n",
       "    <tr>\n",
       "      <th>13989</th>\n",
       "      <td>6896300380</td>\n",
       "      <td>20141002T000000</td>\n",
       "      <td>228000.0</td>\n",
       "      <td>0</td>\n",
       "      <td>1.00</td>\n",
       "      <td>390</td>\n",
       "      <td>5900</td>\n",
       "      <td>1.0</td>\n",
       "      <td>0</td>\n",
       "      <td>0</td>\n",
       "      <td>...</td>\n",
       "      <td>4</td>\n",
       "      <td>390</td>\n",
       "      <td>0</td>\n",
       "      <td>1953</td>\n",
       "      <td>0</td>\n",
       "      <td>98118</td>\n",
       "      <td>47.5260</td>\n",
       "      <td>-122.261</td>\n",
       "      <td>2170</td>\n",
       "      <td>6000</td>\n",
       "    </tr>\n",
       "    <tr>\n",
       "      <th>15733</th>\n",
       "      <td>7849202299</td>\n",
       "      <td>20150218T000000</td>\n",
       "      <td>320000.0</td>\n",
       "      <td>0</td>\n",
       "      <td>2.50</td>\n",
       "      <td>1490</td>\n",
       "      <td>7111</td>\n",
       "      <td>2.0</td>\n",
       "      <td>0</td>\n",
       "      <td>0</td>\n",
       "      <td>...</td>\n",
       "      <td>7</td>\n",
       "      <td>1490</td>\n",
       "      <td>0</td>\n",
       "      <td>1999</td>\n",
       "      <td>0</td>\n",
       "      <td>98065</td>\n",
       "      <td>47.5261</td>\n",
       "      <td>-121.826</td>\n",
       "      <td>1500</td>\n",
       "      <td>4675</td>\n",
       "    </tr>\n",
       "  </tbody>\n",
       "</table>\n",
       "<p>12 rows × 21 columns</p>\n",
       "</div>"
      ],
      "text/plain": [
       "               id             date      price  bedrooms  bathrooms  \\\n",
       "483    3374500520  20150429T000000   355000.0         0       0.00   \n",
       "1120   6306400140  20140612T000000  1095000.0         0       0.00   \n",
       "2430   1222029077  20141029T000000   265000.0         0       0.75   \n",
       "3032   7849202190  20141223T000000   235000.0         0       0.00   \n",
       "3609   2569500210  20141117T000000   339950.0         0       2.50   \n",
       "5424   3918400017  20150205T000000   380000.0         0       0.00   \n",
       "6409   1453602309  20140805T000000   288000.0         0       1.50   \n",
       "9286   2954400190  20140624T000000  1295650.0         0       0.00   \n",
       "10067  3980300371  20140926T000000   142000.0         0       0.00   \n",
       "10074  2310060040  20140925T000000   240000.0         0       2.50   \n",
       "13989  6896300380  20141002T000000   228000.0         0       1.00   \n",
       "15733  7849202299  20150218T000000   320000.0         0       2.50   \n",
       "\n",
       "       sqft_living  sqft_lot  floors  waterfront  view  ...  grade  \\\n",
       "483           2460      8049     2.0           0     0  ...      8   \n",
       "1120          3064      4764     3.5           0     2  ...      7   \n",
       "2430           384    213444     1.0           0     0  ...      4   \n",
       "3032          1470      4800     2.0           0     0  ...      7   \n",
       "3609          2290      8319     2.0           0     0  ...      8   \n",
       "5424          1470       979     3.0           0     2  ...      8   \n",
       "6409          1430      1650     3.0           0     0  ...      7   \n",
       "9286          4810     28008     2.0           0     0  ...     12   \n",
       "10067          290     20875     1.0           0     0  ...      1   \n",
       "10074         1810      5669     2.0           0     0  ...      7   \n",
       "13989          390      5900     1.0           0     0  ...      4   \n",
       "15733         1490      7111     2.0           0     0  ...      7   \n",
       "\n",
       "       sqft_above  sqft_basement  yr_built  yr_renovated  zipcode      lat  \\\n",
       "483          2460              0      1990             0    98031  47.4095   \n",
       "1120         3064              0      1990             0    98102  47.6362   \n",
       "2430          384              0      2003             0    98070  47.4177   \n",
       "3032         1470              0      1996             0    98065  47.5265   \n",
       "3609         2290              0      1985             0    98042  47.3473   \n",
       "5424         1470              0      2006             0    98133  47.7145   \n",
       "6409         1430              0      1999             0    98125  47.7222   \n",
       "9286         4810              0      1990             0    98053  47.6642   \n",
       "10067         290              0      1963             0    98024  47.5308   \n",
       "10074        1810              0      2003             0    98038  47.3493   \n",
       "13989         390              0      1953             0    98118  47.5260   \n",
       "15733        1490              0      1999             0    98065  47.5261   \n",
       "\n",
       "          long  sqft_living15  sqft_lot15  \n",
       "483   -122.168           2520        8050  \n",
       "1120  -122.322           2360        4000  \n",
       "2430  -122.491           1920      224341  \n",
       "3032  -121.828           1060        7200  \n",
       "3609  -122.151           2500        8751  \n",
       "5424  -122.356           1470        1399  \n",
       "6409  -122.290           1430        1650  \n",
       "9286  -122.069           4740       35061  \n",
       "10067 -121.888           1620       22850  \n",
       "10074 -122.053           1810        5685  \n",
       "13989 -122.261           2170        6000  \n",
       "15733 -121.826           1500        4675  \n",
       "\n",
       "[12 rows x 21 columns]"
      ]
     },
     "execution_count": 4,
     "metadata": {},
     "output_type": "execute_result"
    }
   ],
   "source": [
    "training_data.loc[training_data['bedrooms'] == 0]"
   ]
  },
  {
   "cell_type": "markdown",
   "metadata": {},
   "source": [
    "# Fill in missing values."
   ]
  },
  {
   "cell_type": "code",
   "execution_count": 5,
   "metadata": {},
   "outputs": [],
   "source": [
    "correct_baths = bedroomsfilled.bathrooms.to_list()\n",
    "correct_beds = bedroomsfilled.bedrooms.to_list()\n",
    "ind = training_data.loc[training_data.bedrooms == 0].index.to_list()\n",
    "\n",
    "new_col = pd.Series(correct_beds, name='bedrooms', index=ind)\n",
    "new_col2 = pd.Series(correct_baths, name='bathrooms', index=ind)\n",
    "\n",
    "training_data.update(new_col)\n",
    "training_data.update(new_col2)"
   ]
  },
  {
   "cell_type": "code",
   "execution_count": 6,
   "metadata": {},
   "outputs": [
    {
     "data": {
      "text/plain": [
       "(17290, 21)"
      ]
     },
     "execution_count": 6,
     "metadata": {},
     "output_type": "execute_result"
    }
   ],
   "source": [
    "training_data.shape"
   ]
  },
  {
   "cell_type": "code",
   "execution_count": 7,
   "metadata": {},
   "outputs": [
    {
     "data": {
      "text/plain": [
       "['id',\n",
       " 'date',\n",
       " 'price',\n",
       " 'bedrooms',\n",
       " 'bathrooms',\n",
       " 'sqft_living',\n",
       " 'sqft_lot',\n",
       " 'floors',\n",
       " 'waterfront',\n",
       " 'view',\n",
       " 'condition',\n",
       " 'grade',\n",
       " 'sqft_above',\n",
       " 'sqft_basement',\n",
       " 'yr_built',\n",
       " 'yr_renovated',\n",
       " 'zipcode',\n",
       " 'lat',\n",
       " 'long',\n",
       " 'sqft_living15',\n",
       " 'sqft_lot15']"
      ]
     },
     "execution_count": 7,
     "metadata": {},
     "output_type": "execute_result"
    }
   ],
   "source": [
    "training_data.columns.to_list()"
   ]
  },
  {
   "cell_type": "markdown",
   "metadata": {},
   "source": [
    "# Removing Outliers"
   ]
  },
  {
   "cell_type": "code",
   "execution_count": 8,
   "metadata": {},
   "outputs": [],
   "source": [
    "def clean_beds(dataframe):\n",
    "    median_beds = dataframe.bedrooms.median()\n",
    "    dataframe['bedrooms'].values[dataframe['bedrooms'].values > 10] = median_beds\n",
    "    print('Entries with an abnormal amount of bedrooms have been replaced with {}, the median number of bedrooms in the dataframe. \\n'.format(median_beds))"
   ]
  },
  {
   "cell_type": "code",
   "execution_count": 9,
   "metadata": {},
   "outputs": [
    {
     "name": "stdout",
     "output_type": "stream",
     "text": [
      "Entries with an abnormal amount of bedrooms have been replaced with 3.0, the median number of bedrooms in the dataframe. \n",
      "\n"
     ]
    }
   ],
   "source": [
    "clean_beds(training_data)"
   ]
  },
  {
   "cell_type": "markdown",
   "metadata": {},
   "source": [
    " # Adding additional zipcode information"
   ]
  },
  {
   "cell_type": "code",
   "execution_count": 10,
   "metadata": {},
   "outputs": [],
   "source": [
    "training_data = pd.merge(training_data, census_data, left_on='zipcode', right_on='zipcode')"
   ]
  },
  {
   "cell_type": "markdown",
   "metadata": {},
   "source": [
    " # Adding Features"
   ]
  },
  {
   "cell_type": "code",
   "execution_count": 11,
   "metadata": {},
   "outputs": [],
   "source": [
    "training_data['home_age'] =  2015 - training_data.yr_built\n",
    "training_data['available_housing'] = training_data['total_housing_units'] - training_data['occupied_housing_units']\n",
    "\n",
    "#turning date into datetime so we can extract sale year/month\n",
    "training_data['date'] = pd.to_datetime(training_data['date'])\n",
    "\n",
    "training_data['sale_year'] = pd.DatetimeIndex(training_data['date']).year\n",
    "training_data['sale_month'] = pd.DatetimeIndex(training_data['date']).month\n",
    "training_data.drop(columns='date', inplace=True)"
   ]
  },
  {
   "cell_type": "markdown",
   "metadata": {},
   "source": [
    "##### Dummy Features for categorical variables."
   ]
  },
  {
   "cell_type": "code",
   "execution_count": 12,
   "metadata": {},
   "outputs": [],
   "source": [
    "waterfront_dummies = pd.get_dummies(training_data['waterfront'], prefix='waterf', drop_first=True)\n",
    "view_dummies = pd.get_dummies(training_data['view'], prefix='has_view', drop_first=True)\n",
    "condition_dummies = pd.get_dummies(training_data['condition'], prefix='condition', drop_first=True)\n",
    "grade_dummies = pd.get_dummies(training_data['grade'], prefix='grade', drop_first=True)\n",
    "month_dummies = pd.get_dummies(training_data['sale_month'], prefix='month', drop_first=True)\n",
    "zip_dummies = pd.get_dummies(training_data['zipcode'], prefix='zip', drop_first=True)"
   ]
  },
  {
   "cell_type": "code",
   "execution_count": 13,
   "metadata": {},
   "outputs": [],
   "source": [
    "training_data = training_data.drop(['postoffice','id','zipcode','sale_month','waterfront', 'view', 'condition', 'grade'], axis=1)\n",
    "training_data = pd.concat([training_data, waterfront_dummies, view_dummies, condition_dummies, grade_dummies, month_dummies, zip_dummies], axis=1)"
   ]
  },
  {
   "cell_type": "markdown",
   "metadata": {},
   "source": [
    "# Removing Colinear Features"
   ]
  },
  {
   "cell_type": "code",
   "execution_count": 14,
   "metadata": {},
   "outputs": [],
   "source": [
    "def multicolinear_features(data):\n",
    "    '''\n",
    "    input: dataframe\n",
    "    returns a dataframe of all colinear features in a dataframe.\n",
    "    '''\n",
    "\n",
    "    df=data.corr().abs().stack().reset_index().sort_values(0, ascending=False)\n",
    "    df['pairs'] = list(zip(df.level_0, df.level_1))\n",
    "    df.set_index(['pairs'], inplace = True)\n",
    "    df.drop(columns=['level_1', 'level_0'], inplace = True)\n",
    "    df.columns = ['cc']\n",
    "    return df[(df.cc>.75) & (df.cc <1)]"
   ]
  },
  {
   "cell_type": "code",
   "execution_count": 15,
   "metadata": {},
   "outputs": [
    {
     "data": {
      "text/html": [
       "<div>\n",
       "<style scoped>\n",
       "    .dataframe tbody tr th:only-of-type {\n",
       "        vertical-align: middle;\n",
       "    }\n",
       "\n",
       "    .dataframe tbody tr th {\n",
       "        vertical-align: top;\n",
       "    }\n",
       "\n",
       "    .dataframe thead th {\n",
       "        text-align: right;\n",
       "    }\n",
       "</style>\n",
       "<table border=\"1\" class=\"dataframe\">\n",
       "  <thead>\n",
       "    <tr style=\"text-align: right;\">\n",
       "      <th></th>\n",
       "      <th>cc</th>\n",
       "    </tr>\n",
       "    <tr>\n",
       "      <th>pairs</th>\n",
       "      <th></th>\n",
       "    </tr>\n",
       "  </thead>\n",
       "  <tbody>\n",
       "    <tr>\n",
       "      <th>(zip_98003, available_housing)</th>\n",
       "      <td>0.998631</td>\n",
       "    </tr>\n",
       "    <tr>\n",
       "      <th>(available_housing, zip_98003)</th>\n",
       "      <td>0.998631</td>\n",
       "    </tr>\n",
       "    <tr>\n",
       "      <th>(population, occupied_housing_units)</th>\n",
       "      <td>0.937770</td>\n",
       "    </tr>\n",
       "    <tr>\n",
       "      <th>(occupied_housing_units, population)</th>\n",
       "      <td>0.937770</td>\n",
       "    </tr>\n",
       "    <tr>\n",
       "      <th>(available_housing, total_housing_units)</th>\n",
       "      <td>0.901956</td>\n",
       "    </tr>\n",
       "    <tr>\n",
       "      <th>(total_housing_units, available_housing)</th>\n",
       "      <td>0.901956</td>\n",
       "    </tr>\n",
       "    <tr>\n",
       "      <th>(zip_98003, total_housing_units)</th>\n",
       "      <td>0.885647</td>\n",
       "    </tr>\n",
       "    <tr>\n",
       "      <th>(total_housing_units, zip_98003)</th>\n",
       "      <td>0.885647</td>\n",
       "    </tr>\n",
       "    <tr>\n",
       "      <th>(sqft_above, sqft_living)</th>\n",
       "      <td>0.876696</td>\n",
       "    </tr>\n",
       "    <tr>\n",
       "      <th>(sqft_living, sqft_above)</th>\n",
       "      <td>0.876696</td>\n",
       "    </tr>\n",
       "    <tr>\n",
       "      <th>(population, owned_household_with_mortgage)</th>\n",
       "      <td>0.869016</td>\n",
       "    </tr>\n",
       "    <tr>\n",
       "      <th>(owned_household_with_mortgage, population)</th>\n",
       "      <td>0.869016</td>\n",
       "    </tr>\n",
       "    <tr>\n",
       "      <th>(occupied_housing_units, renter_occupied_households)</th>\n",
       "      <td>0.845158</td>\n",
       "    </tr>\n",
       "    <tr>\n",
       "      <th>(renter_occupied_households, occupied_housing_units)</th>\n",
       "      <td>0.845158</td>\n",
       "    </tr>\n",
       "    <tr>\n",
       "      <th>(condition_3, condition_4)</th>\n",
       "      <td>0.810849</td>\n",
       "    </tr>\n",
       "    <tr>\n",
       "      <th>(condition_4, condition_3)</th>\n",
       "      <td>0.810849</td>\n",
       "    </tr>\n",
       "    <tr>\n",
       "      <th>(owned_household_with_mortgage, occupied_housing_units)</th>\n",
       "      <td>0.786347</td>\n",
       "    </tr>\n",
       "    <tr>\n",
       "      <th>(occupied_housing_units, owned_household_with_mortgage)</th>\n",
       "      <td>0.786347</td>\n",
       "    </tr>\n",
       "    <tr>\n",
       "      <th>(occupied_housing_units, houses_owned_outright)</th>\n",
       "      <td>0.772639</td>\n",
       "    </tr>\n",
       "    <tr>\n",
       "      <th>(houses_owned_outright, occupied_housing_units)</th>\n",
       "      <td>0.772639</td>\n",
       "    </tr>\n",
       "    <tr>\n",
       "      <th>(sqft_living, bathrooms)</th>\n",
       "      <td>0.756908</td>\n",
       "    </tr>\n",
       "    <tr>\n",
       "      <th>(bathrooms, sqft_living)</th>\n",
       "      <td>0.756908</td>\n",
       "    </tr>\n",
       "    <tr>\n",
       "      <th>(houses_owned_outright, population)</th>\n",
       "      <td>0.756252</td>\n",
       "    </tr>\n",
       "    <tr>\n",
       "      <th>(population, houses_owned_outright)</th>\n",
       "      <td>0.756252</td>\n",
       "    </tr>\n",
       "    <tr>\n",
       "      <th>(sqft_living, sqft_living15)</th>\n",
       "      <td>0.755066</td>\n",
       "    </tr>\n",
       "    <tr>\n",
       "      <th>(sqft_living15, sqft_living)</th>\n",
       "      <td>0.755066</td>\n",
       "    </tr>\n",
       "  </tbody>\n",
       "</table>\n",
       "</div>"
      ],
      "text/plain": [
       "                                                          cc\n",
       "pairs                                                       \n",
       "(zip_98003, available_housing)                      0.998631\n",
       "(available_housing, zip_98003)                      0.998631\n",
       "(population, occupied_housing_units)                0.937770\n",
       "(occupied_housing_units, population)                0.937770\n",
       "(available_housing, total_housing_units)            0.901956\n",
       "(total_housing_units, available_housing)            0.901956\n",
       "(zip_98003, total_housing_units)                    0.885647\n",
       "(total_housing_units, zip_98003)                    0.885647\n",
       "(sqft_above, sqft_living)                           0.876696\n",
       "(sqft_living, sqft_above)                           0.876696\n",
       "(population, owned_household_with_mortgage)         0.869016\n",
       "(owned_household_with_mortgage, population)         0.869016\n",
       "(occupied_housing_units, renter_occupied_househ...  0.845158\n",
       "(renter_occupied_households, occupied_housing_u...  0.845158\n",
       "(condition_3, condition_4)                          0.810849\n",
       "(condition_4, condition_3)                          0.810849\n",
       "(owned_household_with_mortgage, occupied_housin...  0.786347\n",
       "(occupied_housing_units, owned_household_with_m...  0.786347\n",
       "(occupied_housing_units, houses_owned_outright)     0.772639\n",
       "(houses_owned_outright, occupied_housing_units)     0.772639\n",
       "(sqft_living, bathrooms)                            0.756908\n",
       "(bathrooms, sqft_living)                            0.756908\n",
       "(houses_owned_outright, population)                 0.756252\n",
       "(population, houses_owned_outright)                 0.756252\n",
       "(sqft_living, sqft_living15)                        0.755066\n",
       "(sqft_living15, sqft_living)                        0.755066"
      ]
     },
     "execution_count": 15,
     "metadata": {},
     "output_type": "execute_result"
    }
   ],
   "source": [
    "multicolinear_features(training_data)"
   ]
  },
  {
   "cell_type": "code",
   "execution_count": 16,
   "metadata": {},
   "outputs": [],
   "source": [
    "training_data.drop(['zip_98003',\n",
    "                    'owned_household_with_mortgage', \n",
    "                    'houses_owned_outright',\n",
    "                    'land_area',\n",
    "                    'occupied_housing_units',\n",
    "                    'total_housing_units',\n",
    "                    'sqft_living', \n",
    "                    'condition_3'], axis=1, inplace=True)"
   ]
  },
  {
   "cell_type": "code",
   "execution_count": 17,
   "metadata": {},
   "outputs": [
    {
     "data": {
      "text/html": [
       "<div>\n",
       "<style scoped>\n",
       "    .dataframe tbody tr th:only-of-type {\n",
       "        vertical-align: middle;\n",
       "    }\n",
       "\n",
       "    .dataframe tbody tr th {\n",
       "        vertical-align: top;\n",
       "    }\n",
       "\n",
       "    .dataframe thead th {\n",
       "        text-align: right;\n",
       "    }\n",
       "</style>\n",
       "<table border=\"1\" class=\"dataframe\">\n",
       "  <thead>\n",
       "    <tr style=\"text-align: right;\">\n",
       "      <th></th>\n",
       "      <th>cc</th>\n",
       "    </tr>\n",
       "    <tr>\n",
       "      <th>pairs</th>\n",
       "      <th></th>\n",
       "    </tr>\n",
       "  </thead>\n",
       "  <tbody>\n",
       "  </tbody>\n",
       "</table>\n",
       "</div>"
      ],
      "text/plain": [
       "Empty DataFrame\n",
       "Columns: [cc]\n",
       "Index: []"
      ]
     },
     "execution_count": 17,
     "metadata": {},
     "output_type": "execute_result"
    }
   ],
   "source": [
    "multicolinear_features(training_data) # Should be empty"
   ]
  },
  {
   "cell_type": "markdown",
   "metadata": {},
   "source": [
    "# Adding polynomial features."
   ]
  },
  {
   "cell_type": "code",
   "execution_count": 18,
   "metadata": {},
   "outputs": [
    {
     "data": {
      "text/plain": [
       "(17290, 7502)"
      ]
     },
     "execution_count": 18,
     "metadata": {},
     "output_type": "execute_result"
    }
   ],
   "source": [
    "poly_feats = PolynomialFeatures(degree=2, include_bias=False)\n",
    "poly_data = poly_feats.fit_transform(training_data.drop(columns='price', axis=1))\n",
    "poly_columns = poly_feats.get_feature_names(training_data.columns.drop('price'))\n",
    "df_poly = pd.DataFrame(poly_data, columns=poly_columns)\n",
    "df_poly.shape"
   ]
  },
  {
   "cell_type": "code",
   "execution_count": 19,
   "metadata": {},
   "outputs": [],
   "source": [
    "y = training_data.price"
   ]
  },
  {
   "cell_type": "markdown",
   "metadata": {},
   "source": [
    "# Train/test split"
   ]
  },
  {
   "cell_type": "code",
   "execution_count": 20,
   "metadata": {},
   "outputs": [],
   "source": [
    "X_train, X_test, y_train, y_test = train_test_split(df_poly, y, random_state=9,test_size=0.2)"
   ]
  },
  {
   "cell_type": "code",
   "execution_count": 21,
   "metadata": {},
   "outputs": [
    {
     "data": {
      "text/plain": [
       "((13832, 7502), (3458, 7502), (13832,), (3458,))"
      ]
     },
     "execution_count": 21,
     "metadata": {},
     "output_type": "execute_result"
    }
   ],
   "source": [
    "X_train.shape, X_test.shape, y_train.shape, y_test.shape"
   ]
  },
  {
   "cell_type": "markdown",
   "metadata": {},
   "source": [
    "# Selecting the best features."
   ]
  },
  {
   "cell_type": "code",
   "execution_count": 22,
   "metadata": {},
   "outputs": [],
   "source": [
    "selector = SelectKBest(f_regression, k=250)\n",
    "\n",
    "selector.fit(X_train, y_train)\n",
    "\n",
    "selected_columns = X_train.columns[selector.get_support()]\n",
    "removed_columns = X_train.columns[~selector.get_support()]"
   ]
  },
  {
   "cell_type": "code",
   "execution_count": 23,
   "metadata": {},
   "outputs": [
    {
     "name": "stdout",
     "output_type": "stream",
     "text": [
      "Training Root Mean Squared Error: 120228.93383411219\n",
      "Testing Root Mean Squared Error: 119799.03031939798\n"
     ]
    }
   ],
   "source": [
    "#instantiate\n",
    "lm_kbest = LinearRegression()\n",
    "\n",
    "#fit\n",
    "lm_kbest = lm_kbest.fit(X_train[selected_columns], y_train)\n",
    "\n",
    "y_train_kbest = lm_kbest.predict(X_train[selected_columns])\n",
    "\n",
    "\n",
    "trainK_rmse = np.sqrt(metrics.mean_squared_error(y_train, y_train_kbest))\n",
    "\n",
    "\n",
    "print('Training Root Mean Squared Error:' , trainK_rmse)\n",
    "\n",
    "y_kbest = lm_kbest.predict(X_test[selected_columns])\n",
    "\n",
    "testK_rmse = np.sqrt(metrics.mean_squared_error(y_test, y_kbest))\n",
    "\n",
    "print('Testing Root Mean Squared Error:' , testK_rmse)"
   ]
  },
  {
   "cell_type": "markdown",
   "metadata": {},
   "source": [
    "# Final Model"
   ]
  },
  {
   "cell_type": "code",
   "execution_count": 24,
   "metadata": {},
   "outputs": [],
   "source": [
    "#Instantiate a linear regression object\n",
    "lm_final = LinearRegression()\n",
    "\n",
    "#Fit the linear regression to the data\n",
    "lm_final = lm_final.fit(df_poly[selected_columns], training_data.price)"
   ]
  },
  {
   "cell_type": "code",
   "execution_count": 25,
   "metadata": {},
   "outputs": [],
   "source": [
    "import pickle\n",
    "\n",
    "\n",
    "pickle_out = open(\"final_model.pickle\",\"wb\")\n",
    "pickle.dump(lm_final, pickle_out)\n",
    "pickle_out.close()\n",
    "\n",
    "# final_model = pickle.load(open('final_model.pickle', 'rb'))"
   ]
  },
  {
   "cell_type": "code",
   "execution_count": null,
   "metadata": {},
   "outputs": [],
   "source": []
  }
 ],
 "metadata": {
  "kernelspec": {
   "display_name": "learn-env",
   "language": "python",
   "name": "learn-env"
  },
  "language_info": {
   "codemirror_mode": {
    "name": "ipython",
    "version": 3
   },
   "file_extension": ".py",
   "mimetype": "text/x-python",
   "name": "python",
   "nbconvert_exporter": "python",
   "pygments_lexer": "ipython3",
   "version": "3.6.10"
  }
 },
 "nbformat": 4,
 "nbformat_minor": 4
}
