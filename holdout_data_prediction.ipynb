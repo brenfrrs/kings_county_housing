{
 "cells": [
  {
   "cell_type": "code",
   "execution_count": 1,
   "metadata": {},
   "outputs": [],
   "source": [
    "import pandas as pd\n",
    "import numpy as np\n",
    "import matplotlib.pyplot as plt\n",
    "from sklearn.feature_selection import RFE\n",
    "import seaborn as sns\n",
    "from scipy import stats\n",
    "import warnings\n",
    "from sklearn.preprocessing import PolynomialFeatures\n",
    "from sklearn import metrics\n",
    "import statsmodels.api as sm\n",
    "from statsmodels.formula.api import ols\n",
    "from sklearn.model_selection import train_test_split\n",
    "from sklearn.metrics import mean_squared_error\n",
    "from sklearn.feature_selection import SelectKBest, f_regression,mutual_info_regression\n",
    "from sklearn.linear_model import LinearRegression, Lasso\n",
    "from sklearn.model_selection import cross_val_score\n",
    "warnings.filterwarnings('ignore')\n",
    "%matplotlib inline"
   ]
  },
  {
   "cell_type": "code",
   "execution_count": 2,
   "metadata": {},
   "outputs": [
    {
     "data": {
      "text/plain": [
       "(4323, 20)"
      ]
     },
     "execution_count": 2,
     "metadata": {},
     "output_type": "execute_result"
    }
   ],
   "source": [
    "holdout_data = pd.read_csv('/Users/brendanferris/Desktop/kings_county_housing/kc_house_data_test_features.csv')\n",
    "census_data = pd.read_excel('/Users/brendanferris/Desktop/kings_county_housing/EDA/extradata.xlsx')\n",
    "holdout_data.drop('Unnamed: 0', axis=1, inplace=True)\n",
    "\n",
    "holdout_data.shape"
   ]
  },
  {
   "cell_type": "markdown",
   "metadata": {},
   "source": [
    "# Removing Outliers"
   ]
  },
  {
   "cell_type": "code",
   "execution_count": 3,
   "metadata": {},
   "outputs": [],
   "source": [
    "def clean_beds(dataframe):\n",
    "    median_beds = dataframe.bedrooms.median()\n",
    "    dataframe['bedrooms'].values[dataframe['bedrooms'].values > 10] = median_beds\n",
    "    print('Entries with an abnormal amount of bedrooms have been replaced with {}, the median number of bedrooms in the dataframe. \\n'.format(median_beds))"
   ]
  },
  {
   "cell_type": "code",
   "execution_count": 4,
   "metadata": {},
   "outputs": [
    {
     "name": "stdout",
     "output_type": "stream",
     "text": [
      "Entries with an abnormal amount of bedrooms have been replaced with 3.0, the median number of bedrooms in the dataframe. \n",
      "\n"
     ]
    }
   ],
   "source": [
    "clean_beds(holdout_data)"
   ]
  },
  {
   "cell_type": "markdown",
   "metadata": {},
   "source": [
    "# Adding Features"
   ]
  },
  {
   "cell_type": "code",
   "execution_count": 5,
   "metadata": {},
   "outputs": [],
   "source": [
    "holdout_data['home_age'] =  2015 - holdout_data.yr_built\n",
    "#holdout_data['available_housing'] = holdout_data['total_housing_units'] - holdout_data['occupied_housing_units']\n",
    "\n",
    "#turning date into datetime so we can extract sale year/month\n",
    "holdout_data['date'] = pd.to_datetime(holdout_data['date'])\n",
    "\n",
    "holdout_data['sale_year'] = pd.DatetimeIndex(holdout_data['date']).year\n",
    "holdout_data['sale_month'] = pd.DatetimeIndex(holdout_data['date']).month\n",
    "holdout_data.drop(columns='date', inplace=True)"
   ]
  },
  {
   "cell_type": "markdown",
   "metadata": {},
   "source": [
    "#### Dummy features"
   ]
  },
  {
   "cell_type": "code",
   "execution_count": 6,
   "metadata": {},
   "outputs": [],
   "source": [
    "waterfront_dummies = pd.get_dummies(holdout_data['waterfront'], prefix='waterf', drop_first=True)\n",
    "view_dummies = pd.get_dummies(holdout_data['view'], prefix='has_view', drop_first=True)\n",
    "condition_dummies = pd.get_dummies(holdout_data['condition'], prefix='condition', drop_first=True)\n",
    "grade_dummies = pd.get_dummies(holdout_data['grade'], prefix='grade', drop_first=True)\n",
    "month_dummies = pd.get_dummies(holdout_data['sale_month'], prefix='month', drop_first=True)\n",
    "zip_dummies = pd.get_dummies(holdout_data['zipcode'], prefix='zip', drop_first=True)"
   ]
  },
  {
   "cell_type": "code",
   "execution_count": 7,
   "metadata": {},
   "outputs": [],
   "source": [
    "holdout_data = holdout_data.drop(['id','zipcode','sale_month','waterfront', 'view', 'condition', 'grade'], axis=1)\n",
    "holdout_data = pd.concat([holdout_data, waterfront_dummies, view_dummies, condition_dummies, grade_dummies, month_dummies, zip_dummies], axis=1)"
   ]
  },
  {
   "cell_type": "markdown",
   "metadata": {},
   "source": [
    "# Removing Colinear Features"
   ]
  },
  {
   "cell_type": "code",
   "execution_count": 8,
   "metadata": {},
   "outputs": [],
   "source": [
    "def multicolinear_features(data):\n",
    "    '''\n",
    "    input: dataframe\n",
    "    returns a dataframe of all colinear features in a dataframe.\n",
    "    '''\n",
    "\n",
    "    df=data.corr().abs().stack().reset_index().sort_values(0, ascending=False)\n",
    "    df['pairs'] = list(zip(df.level_0, df.level_1))\n",
    "    df.set_index(['pairs'], inplace = True)\n",
    "    df.drop(columns=['level_1', 'level_0'], inplace = True)\n",
    "    df.columns = ['cc']\n",
    "    return df[(df.cc>.75) & (df.cc <1)]"
   ]
  },
  {
   "cell_type": "code",
   "execution_count": 9,
   "metadata": {},
   "outputs": [
    {
     "data": {
      "text/html": [
       "<div>\n",
       "<style scoped>\n",
       "    .dataframe tbody tr th:only-of-type {\n",
       "        vertical-align: middle;\n",
       "    }\n",
       "\n",
       "    .dataframe tbody tr th {\n",
       "        vertical-align: top;\n",
       "    }\n",
       "\n",
       "    .dataframe thead th {\n",
       "        text-align: right;\n",
       "    }\n",
       "</style>\n",
       "<table border=\"1\" class=\"dataframe\">\n",
       "  <thead>\n",
       "    <tr style=\"text-align: right;\">\n",
       "      <th></th>\n",
       "      <th>cc</th>\n",
       "    </tr>\n",
       "    <tr>\n",
       "      <th>pairs</th>\n",
       "      <th></th>\n",
       "    </tr>\n",
       "  </thead>\n",
       "  <tbody>\n",
       "    <tr>\n",
       "      <th>(home_age, yr_built)</th>\n",
       "      <td>1.000000</td>\n",
       "    </tr>\n",
       "    <tr>\n",
       "      <th>(yr_built, home_age)</th>\n",
       "      <td>1.000000</td>\n",
       "    </tr>\n",
       "    <tr>\n",
       "      <th>(sqft_living, sqft_above)</th>\n",
       "      <td>0.906526</td>\n",
       "    </tr>\n",
       "    <tr>\n",
       "      <th>(sqft_above, sqft_living)</th>\n",
       "      <td>0.906526</td>\n",
       "    </tr>\n",
       "    <tr>\n",
       "      <th>(condition_4, condition_3)</th>\n",
       "      <td>0.822208</td>\n",
       "    </tr>\n",
       "    <tr>\n",
       "      <th>(condition_3, condition_4)</th>\n",
       "      <td>0.822208</td>\n",
       "    </tr>\n",
       "    <tr>\n",
       "      <th>(sqft_living15, sqft_living)</th>\n",
       "      <td>0.763751</td>\n",
       "    </tr>\n",
       "    <tr>\n",
       "      <th>(sqft_living, sqft_living15)</th>\n",
       "      <td>0.763751</td>\n",
       "    </tr>\n",
       "  </tbody>\n",
       "</table>\n",
       "</div>"
      ],
      "text/plain": [
       "                                    cc\n",
       "pairs                                 \n",
       "(home_age, yr_built)          1.000000\n",
       "(yr_built, home_age)          1.000000\n",
       "(sqft_living, sqft_above)     0.906526\n",
       "(sqft_above, sqft_living)     0.906526\n",
       "(condition_4, condition_3)    0.822208\n",
       "(condition_3, condition_4)    0.822208\n",
       "(sqft_living15, sqft_living)  0.763751\n",
       "(sqft_living, sqft_living15)  0.763751"
      ]
     },
     "execution_count": 9,
     "metadata": {},
     "output_type": "execute_result"
    }
   ],
   "source": [
    "multicolinear_features(holdout_data)"
   ]
  },
  {
   "cell_type": "code",
   "execution_count": 10,
   "metadata": {},
   "outputs": [],
   "source": [
    "holdout_data.drop([ 'sqft_living', 'condition_3'], axis=1, inplace=True)"
   ]
  },
  {
   "cell_type": "code",
   "execution_count": 11,
   "metadata": {},
   "outputs": [
    {
     "data": {
      "text/html": [
       "<div>\n",
       "<style scoped>\n",
       "    .dataframe tbody tr th:only-of-type {\n",
       "        vertical-align: middle;\n",
       "    }\n",
       "\n",
       "    .dataframe tbody tr th {\n",
       "        vertical-align: top;\n",
       "    }\n",
       "\n",
       "    .dataframe thead th {\n",
       "        text-align: right;\n",
       "    }\n",
       "</style>\n",
       "<table border=\"1\" class=\"dataframe\">\n",
       "  <thead>\n",
       "    <tr style=\"text-align: right;\">\n",
       "      <th></th>\n",
       "      <th>cc</th>\n",
       "    </tr>\n",
       "    <tr>\n",
       "      <th>pairs</th>\n",
       "      <th></th>\n",
       "    </tr>\n",
       "  </thead>\n",
       "  <tbody>\n",
       "    <tr>\n",
       "      <th>(home_age, yr_built)</th>\n",
       "      <td>1.0</td>\n",
       "    </tr>\n",
       "    <tr>\n",
       "      <th>(yr_built, home_age)</th>\n",
       "      <td>1.0</td>\n",
       "    </tr>\n",
       "  </tbody>\n",
       "</table>\n",
       "</div>"
      ],
      "text/plain": [
       "                       cc\n",
       "pairs                    \n",
       "(home_age, yr_built)  1.0\n",
       "(yr_built, home_age)  1.0"
      ]
     },
     "execution_count": 11,
     "metadata": {},
     "output_type": "execute_result"
    }
   ],
   "source": [
    "multicolinear_features(holdout_data)"
   ]
  },
  {
   "cell_type": "markdown",
   "metadata": {},
   "source": [
    "# Adding poly features"
   ]
  },
  {
   "cell_type": "code",
   "execution_count": 12,
   "metadata": {},
   "outputs": [
    {
     "data": {
      "text/plain": [
       "(4323, 6440)"
      ]
     },
     "execution_count": 12,
     "metadata": {},
     "output_type": "execute_result"
    }
   ],
   "source": [
    "poly_feats = PolynomialFeatures(degree=2, include_bias=False)\n",
    "poly_data = poly_feats.fit_transform(holdout_data)\n",
    "poly_columns = poly_feats.get_feature_names(holdout_data.columns)\n",
    "df_poly = pd.DataFrame(poly_data, columns=poly_columns)\n",
    "df_poly.shape"
   ]
  },
  {
   "cell_type": "code",
   "execution_count": 14,
   "metadata": {},
   "outputs": [],
   "source": [
    "selected_columns = [\n",
    "    'bedrooms',\n",
    " 'bathrooms',\n",
    " 'floors',\n",
    " 'sqft_above',\n",
    " 'sqft_basement',\n",
    " 'lat',\n",
    " 'sqft_living15',\n",
    " 'waterf_1',\n",
    " 'has_view_3',\n",
    " 'has_view_4',\n",
    " 'grade_6',\n",
    " 'grade_7',\n",
    " 'grade_9',\n",
    " 'grade_10',\n",
    " 'grade_11',\n",
    " 'grade_12',\n",
    " 'grade_13',\n",
    " 'zip_98004',\n",
    " 'zip_98039',\n",
    " 'zip_98040',\n",
    " 'bedrooms^2',\n",
    " 'bedrooms bathrooms',\n",
    " 'bedrooms floors',\n",
    " 'bedrooms sqft_above',\n",
    " 'bedrooms sqft_basement',\n",
    " 'bedrooms yr_built',\n",
    " 'bedrooms lat',\n",
    " 'bedrooms long',\n",
    " 'bedrooms sqft_living15',\n",
    " 'bedrooms sale_year',\n",
    " 'bedrooms waterf_1',\n",
    " 'bedrooms has_view_3',\n",
    " 'bedrooms has_view_4',\n",
    " 'bedrooms grade_6',\n",
    " 'bedrooms grade_7',\n",
    " 'bedrooms grade_9',\n",
    " 'bedrooms grade_10',\n",
    " 'bedrooms grade_11',\n",
    " 'bedrooms grade_12',\n",
    " 'bedrooms grade_13',\n",
    " 'bedrooms zip_98004',\n",
    " 'bedrooms zip_98039',\n",
    " 'bedrooms zip_98040',\n",
    " 'bedrooms zip_98112',\n",
    " 'bathrooms^2',\n",
    " 'bathrooms floors',\n",
    " 'bathrooms sqft_above',\n",
    " 'bathrooms sqft_basement',\n",
    " 'bathrooms yr_built',\n",
    " 'bathrooms yr_renovated',\n",
    " 'bathrooms lat',\n",
    " 'bathrooms long',\n",
    " 'bathrooms sqft_living15',\n",
    " 'bathrooms home_age',\n",
    " 'bathrooms sale_year',\n",
    " 'bathrooms waterf_1',\n",
    " 'bathrooms has_view_3',\n",
    " 'bathrooms has_view_4',\n",
    " 'bathrooms grade_6',\n",
    " 'bathrooms grade_7',\n",
    " 'bathrooms grade_9',\n",
    " 'bathrooms grade_10',\n",
    " 'bathrooms grade_11',\n",
    " 'bathrooms grade_12',\n",
    " 'bathrooms grade_13',\n",
    " 'bathrooms zip_98004',\n",
    " 'bathrooms zip_98039',\n",
    " 'bathrooms zip_98040',\n",
    " 'bathrooms zip_98112',\n",
    " 'sqft_lot waterf_1',\n",
    " 'sqft_lot grade_13',\n",
    " 'sqft_lot zip_98004',\n",
    " 'sqft_lot zip_98039',\n",
    " 'sqft_lot zip_98040',\n",
    " 'sqft_lot zip_98112',\n",
    " 'floors^2',\n",
    " 'floors sqft_above',\n",
    " 'floors sqft_basement',\n",
    " 'floors yr_built',\n",
    " 'floors lat',\n",
    " 'floors long',\n",
    " 'floors sqft_living15',\n",
    " 'floors sale_year',\n",
    " 'floors waterf_1',\n",
    " 'floors has_view_3',\n",
    " 'floors has_view_4',\n",
    " 'floors grade_6',\n",
    " 'floors grade_7',\n",
    " 'floors grade_9',\n",
    " 'floors grade_10',\n",
    " 'floors grade_11',\n",
    " 'floors grade_12',\n",
    " 'floors grade_13',\n",
    " 'floors zip_98004',\n",
    " 'floors zip_98039',\n",
    " 'floors zip_98040',\n",
    " 'floors zip_98112',\n",
    " 'sqft_above^2',\n",
    " 'sqft_above sqft_basement',\n",
    " 'sqft_above yr_built',\n",
    " 'sqft_above yr_renovated',\n",
    " 'sqft_above lat',\n",
    " 'sqft_above long',\n",
    " 'sqft_above sqft_living15',\n",
    " 'sqft_above home_age',\n",
    " 'sqft_above sale_year',\n",
    " 'sqft_above waterf_1',\n",
    " 'sqft_above has_view_2',\n",
    " 'sqft_above has_view_3',\n",
    " 'sqft_above has_view_4',\n",
    " 'sqft_above grade_6',\n",
    " 'sqft_above grade_7',\n",
    " 'sqft_above grade_9',\n",
    " 'sqft_above grade_10',\n",
    " 'sqft_above grade_11',\n",
    " 'sqft_above grade_12',\n",
    " 'sqft_above grade_13',\n",
    " 'sqft_above zip_98004',\n",
    " 'sqft_above zip_98039',\n",
    " 'sqft_above zip_98040',\n",
    " 'sqft_above zip_98112',\n",
    " 'sqft_basement^2',\n",
    " 'sqft_basement yr_built',\n",
    " 'sqft_basement yr_renovated',\n",
    " 'sqft_basement lat',\n",
    " 'sqft_basement long',\n",
    " 'sqft_basement sqft_living15',\n",
    " 'sqft_basement home_age',\n",
    " 'sqft_basement sale_year',\n",
    " 'sqft_basement waterf_1',\n",
    " 'sqft_basement has_view_3',\n",
    " 'sqft_basement has_view_4',\n",
    " 'sqft_basement grade_9',\n",
    " 'sqft_basement grade_10',\n",
    " 'sqft_basement grade_11',\n",
    " 'sqft_basement grade_12',\n",
    " 'sqft_basement grade_13',\n",
    " 'sqft_basement zip_98004',\n",
    " 'sqft_basement zip_98040',\n",
    " 'yr_built sqft_living15',\n",
    " 'yr_built waterf_1',\n",
    " 'yr_built has_view_3',\n",
    " 'yr_built has_view_4',\n",
    " 'yr_built grade_6',\n",
    " 'yr_built grade_7',\n",
    " 'yr_built grade_9',\n",
    " 'yr_built grade_10',\n",
    " 'yr_built grade_11',\n",
    " 'yr_built grade_12',\n",
    " 'yr_built grade_13',\n",
    " 'yr_built zip_98004',\n",
    " 'yr_built zip_98039',\n",
    " 'yr_built zip_98040',\n",
    " 'yr_renovated sqft_living15',\n",
    " 'lat^2',\n",
    " 'lat long',\n",
    " 'lat sqft_living15',\n",
    " 'lat sale_year',\n",
    " 'lat waterf_1',\n",
    " 'lat has_view_3',\n",
    " 'lat has_view_4',\n",
    " 'lat grade_6',\n",
    " 'lat grade_7',\n",
    " 'lat grade_9',\n",
    " 'lat grade_10',\n",
    " 'lat grade_11',\n",
    " 'lat grade_12',\n",
    " 'lat grade_13',\n",
    " 'lat zip_98004',\n",
    " 'lat zip_98039',\n",
    " 'lat zip_98040',\n",
    " 'long sqft_living15',\n",
    " 'long waterf_1',\n",
    " 'long has_view_3',\n",
    " 'long has_view_4',\n",
    " 'long grade_6',\n",
    " 'long grade_7',\n",
    " 'long grade_9',\n",
    " 'long grade_10',\n",
    " 'long grade_11',\n",
    " 'long grade_12',\n",
    " 'long grade_13',\n",
    " 'long zip_98004',\n",
    " 'long zip_98039',\n",
    " 'long zip_98040',\n",
    " 'sqft_living15^2',\n",
    " 'sqft_living15 home_age',\n",
    " 'sqft_living15 sale_year',\n",
    " 'sqft_living15 waterf_1',\n",
    " 'sqft_living15 has_view_3',\n",
    " 'sqft_living15 has_view_4',\n",
    " 'sqft_living15 grade_6',\n",
    " 'sqft_living15 grade_7',\n",
    " 'sqft_living15 grade_9',\n",
    " 'sqft_living15 grade_10',\n",
    " 'sqft_living15 grade_11',\n",
    " 'sqft_living15 grade_12',\n",
    " 'sqft_living15 grade_13',\n",
    " 'sqft_living15 zip_98004',\n",
    " 'sqft_living15 zip_98039',\n",
    " 'sqft_living15 zip_98040',\n",
    " 'sqft_living15 zip_98112',\n",
    " 'sqft_lot15 waterf_1',\n",
    " 'sqft_lot15 has_view_4',\n",
    " 'sqft_lot15 zip_98004',\n",
    " 'sqft_lot15 zip_98039',\n",
    " 'sqft_lot15 zip_98040',\n",
    " 'sqft_lot15 zip_98112',\n",
    " 'home_age waterf_1',\n",
    " 'home_age has_view_4',\n",
    " 'home_age grade_6',\n",
    " 'home_age grade_7',\n",
    " 'home_age grade_9',\n",
    " 'home_age grade_10',\n",
    " 'home_age grade_11',\n",
    " 'home_age grade_12',\n",
    " 'home_age grade_13',\n",
    " 'home_age zip_98004',\n",
    " 'sale_year waterf_1',\n",
    " 'sale_year has_view_3',\n",
    " 'sale_year has_view_4',\n",
    " 'sale_year grade_6',\n",
    " 'sale_year grade_7',\n",
    " 'sale_year grade_9',\n",
    " 'sale_year grade_10',\n",
    " 'sale_year grade_11',\n",
    " 'sale_year grade_12',\n",
    " 'sale_year grade_13',\n",
    " 'sale_year zip_98004',\n",
    " 'sale_year zip_98039',\n",
    " 'sale_year zip_98040',\n",
    " 'waterf_1^2',\n",
    " 'waterf_1 has_view_4',\n",
    " 'waterf_1 grade_11',\n",
    " 'waterf_1 grade_12',\n",
    " 'has_view_3^2',\n",
    " 'has_view_4^2',\n",
    " 'has_view_4 grade_10',\n",
    " 'has_view_4 grade_12',\n",
    " 'grade_6^2',\n",
    " 'grade_7^2',\n",
    " 'grade_9^2',\n",
    " 'grade_10^2',\n",
    " 'grade_11^2',\n",
    " 'grade_11 zip_98004',\n",
    " 'grade_12^2',\n",
    " 'grade_13^2',\n",
    " 'zip_98004^2',\n",
    " 'zip_98039^2',\n",
    " 'zip_98040^2'\n",
    "]"
   ]
  },
  {
   "cell_type": "markdown",
   "metadata": {},
   "source": [
    "# Predicting on the holdout"
   ]
  },
  {
   "cell_type": "code",
   "execution_count": 15,
   "metadata": {},
   "outputs": [],
   "source": [
    "import pickle\n",
    "\n",
    "final_model = pickle.load(open('final_model.pickle', 'rb'))"
   ]
  },
  {
   "cell_type": "code",
   "execution_count": 16,
   "metadata": {},
   "outputs": [],
   "source": [
    "preds = final_model.predict(df_poly[selected_columns])"
   ]
  },
  {
   "cell_type": "code",
   "execution_count": 17,
   "metadata": {},
   "outputs": [],
   "source": [
    "predictions = pd.DataFrame(preds, columns=['holdout_pred'])\n",
    "\n",
    "predictions.to_csv('housing_pred_Brendan_Ferris.csv')"
   ]
  },
  {
   "cell_type": "code",
   "execution_count": 18,
   "metadata": {},
   "outputs": [
    {
     "data": {
      "text/html": [
       "<div>\n",
       "<style scoped>\n",
       "    .dataframe tbody tr th:only-of-type {\n",
       "        vertical-align: middle;\n",
       "    }\n",
       "\n",
       "    .dataframe tbody tr th {\n",
       "        vertical-align: top;\n",
       "    }\n",
       "\n",
       "    .dataframe thead th {\n",
       "        text-align: right;\n",
       "    }\n",
       "</style>\n",
       "<table border=\"1\" class=\"dataframe\">\n",
       "  <thead>\n",
       "    <tr style=\"text-align: right;\">\n",
       "      <th></th>\n",
       "      <th>holdout_pred</th>\n",
       "    </tr>\n",
       "  </thead>\n",
       "  <tbody>\n",
       "    <tr>\n",
       "      <th>742</th>\n",
       "      <td>1.177035e+04</td>\n",
       "    </tr>\n",
       "    <tr>\n",
       "      <th>794</th>\n",
       "      <td>3.577547e+04</td>\n",
       "    </tr>\n",
       "    <tr>\n",
       "      <th>529</th>\n",
       "      <td>4.791009e+04</td>\n",
       "    </tr>\n",
       "    <tr>\n",
       "      <th>1427</th>\n",
       "      <td>5.609253e+04</td>\n",
       "    </tr>\n",
       "    <tr>\n",
       "      <th>1884</th>\n",
       "      <td>5.978512e+04</td>\n",
       "    </tr>\n",
       "    <tr>\n",
       "      <th>...</th>\n",
       "      <td>...</td>\n",
       "    </tr>\n",
       "    <tr>\n",
       "      <th>1192</th>\n",
       "      <td>3.011442e+06</td>\n",
       "    </tr>\n",
       "    <tr>\n",
       "      <th>1187</th>\n",
       "      <td>3.400511e+06</td>\n",
       "    </tr>\n",
       "    <tr>\n",
       "      <th>1858</th>\n",
       "      <td>3.580709e+06</td>\n",
       "    </tr>\n",
       "    <tr>\n",
       "      <th>1727</th>\n",
       "      <td>3.800000e+06</td>\n",
       "    </tr>\n",
       "    <tr>\n",
       "      <th>3151</th>\n",
       "      <td>3.865592e+06</td>\n",
       "    </tr>\n",
       "  </tbody>\n",
       "</table>\n",
       "<p>4323 rows × 1 columns</p>\n",
       "</div>"
      ],
      "text/plain": [
       "      holdout_pred\n",
       "742   1.177035e+04\n",
       "794   3.577547e+04\n",
       "529   4.791009e+04\n",
       "1427  5.609253e+04\n",
       "1884  5.978512e+04\n",
       "...            ...\n",
       "1192  3.011442e+06\n",
       "1187  3.400511e+06\n",
       "1858  3.580709e+06\n",
       "1727  3.800000e+06\n",
       "3151  3.865592e+06\n",
       "\n",
       "[4323 rows x 1 columns]"
      ]
     },
     "execution_count": 18,
     "metadata": {},
     "output_type": "execute_result"
    }
   ],
   "source": [
    "predictions.sort_values(by='holdout_pred',ascending=True)"
   ]
  },
  {
   "cell_type": "code",
   "execution_count": 19,
   "metadata": {},
   "outputs": [
    {
     "data": {
      "image/png": "[encoded data removed]",
      "text/plain": [
       "<Figure size 432x288 with 1 Axes>"
      ]
     },
     "metadata": {
      "needs_background": "light"
     },
     "output_type": "display_data"
    }
   ],
   "source": [
    "plt.hist(preds, bins=10);\n",
    "plt.title('Distribution of Predictions', size=30);"
   ]
  },
  {
   "cell_type": "code",
   "execution_count": 20,
   "metadata": {},
   "outputs": [
    {
     "data": {
      "text/plain": [
       "array([600222.56679344, 614643.79102182, 365600.13688183, ...,\n",
       "       283726.94393396, 416977.77883053, 285244.70983934])"
      ]
     },
     "execution_count": 20,
     "metadata": {},
     "output_type": "execute_result"
    }
   ],
   "source": [
    "preds"
   ]
  },
  {
   "cell_type": "code",
   "execution_count": 21,
   "metadata": {},
   "outputs": [
    {
     "data": {
      "text/plain": [
       "682461.1760835648"
      ]
     },
     "execution_count": 21,
     "metadata": {},
     "output_type": "execute_result"
    }
   ],
   "source": [
    "predictions.loc[3564][0]"
   ]
  },
  {
   "cell_type": "code",
   "execution_count": null,
   "metadata": {},
   "outputs": [],
   "source": []
  }
 ],
 "metadata": {
  "kernelspec": {
   "display_name": "learn-env",
   "language": "python",
   "name": "learn-env"
  },
  "language_info": {
   "codemirror_mode": {
    "name": "ipython",
    "version": 3
   },
   "file_extension": ".py",
   "mimetype": "text/x-python",
   "name": "python",
   "nbconvert_exporter": "python",
   "pygments_lexer": "ipython3",
   "version": "3.6.10"
  }
 },
 "nbformat": 4,
 "nbformat_minor": 4
}
