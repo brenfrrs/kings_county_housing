{
 "cells": [
  {
   "cell_type": "code",
   "execution_count": 1,
   "metadata": {},
   "outputs": [
    {
     "ename": "SyntaxError",
     "evalue": "invalid syntax (scripts.py, line 65)",
     "output_type": "error",
     "traceback": [
      "\u001b[0;36m  File \u001b[0;32m\"/Users/brendanferris/Desktop/kings_county_housing/EDA/scripts.py\"\u001b[0;36m, line \u001b[0;32m65\u001b[0m\n\u001b[0;31m    geo_df[geo_df[feature] + {condition}].plot(ax = ax , markersize = 2, color = 'blue',marker = 'v',label = \"{} >=750k\".format(feature), aspect = 1.5) plt.legend(prop = {'size':15})\u001b[0m\n\u001b[0m                                                                                                                                                          ^\u001b[0m\n\u001b[0;31mSyntaxError\u001b[0m\u001b[0;31m:\u001b[0m invalid syntax\n"
     ]
    }
   ],
   "source": [
    "import pandas as pd\n",
    "import numpy as np\n",
    "from scripts import *\n",
    "import matplotlib.pyplot as plt\n",
    "from sklearn.feature_selection import RFE\n",
    "import seaborn as sns\n",
    "from scipy import stats\n",
    "import warnings\n",
    "from shapely.geometry import Point,Polygon\n",
    "import geopandas as gpd\n",
    "import descartes\n",
    "from sklearn.model_selection import train_test_split\n",
    "from sklearn.metrics import mean_squared_error\n",
    "from sklearn.linear_model import LinearRegression, Lasso\n",
    "from sklearn.model_selection import cross_val_score\n",
    "warnings.filterwarnings('ignore')\n",
    "%matplotlib inline"
   ]
  },
  {
   "cell_type": "code",
   "execution_count": null,
   "metadata": {},
   "outputs": [],
   "source": [
    "# importing main data\n",
    "training_data = pd.read_csv('/Users/brendanferris/Desktop/kings_county_housing/kc_house_data_train.csv')\n",
    "missing_vals = pd.read_csv('bedroomsfilled.csv')\n",
    "holdout_data = pd.read_csv('/Users/brendanferris/Desktop/kings_county_housing/kc_house_data_train.csv')"
   ]
  },
  {
   "cell_type": "markdown",
   "metadata": {},
   "source": [
    "# Housing Data: first look."
   ]
  },
  {
   "cell_type": "code",
   "execution_count": null,
   "metadata": {},
   "outputs": [],
   "source": [
    "fig, ax = plt.subplots(figsize = (15,25))\n",
    "street_map.plot(ax=ax, alpha = 0.8, color = 'grey')\n",
    "geo_df[geo_df['price'] > 0].plot(ax = ax , markersize = 2,\n",
    "                   color = 'blue',marker = 'v', aspect = 1.5)\n",
    "ax.set_title('Houses in Kings County, WA', fontdict =\n",
    "             {'fontsize': 20})\n",
    "ax.set_ylabel('Latitude',fontdict = {'fontsize': 20})\n",
    "ax.set_xlabel('Longitude',fontdict = {'fontsize': 20});"
   ]
  },
  {
   "cell_type": "code",
   "execution_count": null,
   "metadata": {},
   "outputs": [],
   "source": [
    "training_data.head(4)"
   ]
  },
  {
   "cell_type": "markdown",
   "metadata": {},
   "source": [
    "# Adding Additional Zipcode Information"
   ]
  },
  {
   "cell_type": "markdown",
   "metadata": {},
   "source": [
    "Additional zipcode information was collected from [here](https://www.unitedstateszipcodes.org) to allow for additional relevant features. "
   ]
  },
  {
   "cell_type": "code",
   "execution_count": null,
   "metadata": {},
   "outputs": [],
   "source": [
    "# import additional zipcode data\n",
    "zipcode_data = pd.read_excel('/Users/brendanferris/Desktop/kings_county_housing/EDA/extradata.xlsx', index_col='zipcode')\n",
    "clean_data(training_data)\n",
    "clean_data(missing_vals)\n",
    "\n",
    "#replaced missing values with correct info from zillow.\n",
    "training_data = no_bedrooms(training_data, missing_vals)\n",
    "\n",
    "#merge the original data with additional zipcode data. \n",
    "training_data = pd.merge(training_data, zipcode_data, how='right', on='zipcode')\n",
    "\n",
    "#replace 33 bedrooms with correct value\n",
    "training_data.set_value(8597, 'bedrooms', 3).head(3)"
   ]
  },
  {
   "cell_type": "code",
   "execution_count": null,
   "metadata": {},
   "outputs": [],
   "source": [
    "training_data['available_housing'] = training_data['total_housing_units'] - training_data['occupied_housing_units']"
   ]
  },
  {
   "cell_type": "code",
   "execution_count": null,
   "metadata": {},
   "outputs": [],
   "source": [
    "training_data"
   ]
  },
  {
   "cell_type": "markdown",
   "metadata": {},
   "source": [
    "# Min/Max Scaling"
   ]
  },
  {
   "cell_type": "code",
   "execution_count": null,
   "metadata": {},
   "outputs": [],
   "source": [
    "from sklearn.preprocessing import MinMaxScaler\n",
    "\n",
    "scaler = MinMaxScaler()\n",
    "\n",
    "scaled_feat = ['pop_density',\n",
    "               'sqft_living15', \n",
    "               'sqft_above', \n",
    "               'sqft_basement',\n",
    "               'bedrooms',\n",
    "               'bathrooms',\n",
    "               'median_household_income',\n",
    "               'median_home_value',\n",
    "               'sqft_lot']\n",
    "\n",
    "\n",
    "training_data[scaled_feat] = scaler.fit_transform(training_data[scaled_feat])  "
   ]
  },
  {
   "cell_type": "markdown",
   "metadata": {},
   "source": [
    "# Creating Dummies For Categorical Variables"
   ]
  },
  {
   "cell_type": "code",
   "execution_count": null,
   "metadata": {},
   "outputs": [],
   "source": [
    "waterfront_dummies = pd.get_dummies(training_data['waterfront'], prefix='waterf', drop_first=True)\n",
    "view_dummies = pd.get_dummies(training_data['view'], prefix='has_view', drop_first=True)\n",
    "condition_dummies = pd.get_dummies(training_data['condition'], prefix='condition', drop_first=True)\n",
    "grade_dummies = pd.get_dummies(training_data['grade'], prefix='grade', drop_first=True)\n",
    "month_dummies = pd.get_dummies(training_data['sale_month'], prefix='month', drop_first=True)\n",
    "zip_dummies = pd.get_dummies(training_data['zipcode'], prefix='zip', drop_first=True)\n",
    "\n",
    "\n",
    "training_data = training_data.drop(['postoffice','id','zipcode','sale_month','waterfront', 'view', 'condition', 'grade'], axis=1)\n",
    "training_data = pd.concat([training_data, waterfront_dummies, view_dummies, condition_dummies, grade_dummies, month_dummies, zip_dummies], axis=1)\n",
    "training_data.head(5)"
   ]
  },
  {
   "cell_type": "markdown",
   "metadata": {},
   "source": [
    "# Removing Colinear Features"
   ]
  },
  {
   "cell_type": "code",
   "execution_count": null,
   "metadata": {},
   "outputs": [],
   "source": [
    "training_data.drop(['zip_98003',\n",
    "                    'owned_household_with_mortgage', \n",
    "                    'houses_owned_outright',\n",
    "                    'land_area',\n",
    "                    'occupied_housing_units', \n",
    "                    'total_housing_units',\n",
    "                    'sqft_living', \n",
    "                    'condition_3'], axis=1, inplace=True)"
   ]
  },
  {
   "cell_type": "code",
   "execution_count": null,
   "metadata": {},
   "outputs": [],
   "source": [
    "multicolinear_features(training_data) #graph should be empty"
   ]
  },
  {
   "cell_type": "markdown",
   "metadata": {},
   "source": [
    "# Sklearn Linear Model"
   ]
  },
  {
   "cell_type": "code",
   "execution_count": null,
   "metadata": {},
   "outputs": [],
   "source": [
    "y = training_data.price\n",
    "x = training_data.drop(['price'], axis=1)\n",
    "\n",
    "x_train, x_test, y_train, y_test = train_test_split(x, y, random_state=42, test_size=.2)\n",
    "x_train.shape, x_test.shape"
   ]
  },
  {
   "cell_type": "code",
   "execution_count": null,
   "metadata": {},
   "outputs": [],
   "source": [
    "lr = LinearRegression()\n",
    "lr.fit(x_train, y_train)\n",
    "y_hat = lr.predict(x_test)\n",
    "MSE = mean_squared_error(y_test, y_hat)\n",
    "print('RMSE',np.sqrt(MSE).round(5))"
   ]
  },
  {
   "cell_type": "code",
   "execution_count": null,
   "metadata": {},
   "outputs": [],
   "source": [
    "np.mean(cross_val_score(estimator=lr, X=x_train, y=y_train, cv=30))"
   ]
  },
  {
   "cell_type": "code",
   "execution_count": null,
   "metadata": {},
   "outputs": [],
   "source": [
    "residuals = (y_test - y_hat)\n",
    "plt.hist(residuals);"
   ]
  },
  {
   "cell_type": "code",
   "execution_count": null,
   "metadata": {},
   "outputs": [],
   "source": [
    "sns.residplot(y_hat, y_test, lowess=True, color='g')"
   ]
  },
  {
   "cell_type": "markdown",
   "metadata": {},
   "source": [
    "# OLS Linear Model"
   ]
  },
  {
   "cell_type": "code",
   "execution_count": null,
   "metadata": {},
   "outputs": [],
   "source": [
    "import statsmodels.api as sm\n",
    "from statsmodels.formula.api import ols\n",
    "\n",
    "outcome = 'price'\n",
    "predictors = training_data.drop('price', axis=1)\n",
    "pred_sum = \"+\".join(predictors.columns)\n",
    "formula = outcome + \"~\" + pred_sum\n",
    "\n",
    "\n",
    "model = ols(formula= formula, data=training_data).fit()\n",
    "model.summary()"
   ]
  },
  {
   "cell_type": "code",
   "execution_count": null,
   "metadata": {},
   "outputs": [],
   "source": []
  }
 ],
 "metadata": {
  "kernelspec": {
   "display_name": "learn-env",
   "language": "python",
   "name": "learn-env"
  },
  "language_info": {
   "codemirror_mode": {
    "name": "ipython",
    "version": 3
   },
   "file_extension": ".py",
   "mimetype": "text/x-python",
   "name": "python",
   "nbconvert_exporter": "python",
   "pygments_lexer": "ipython3",
   "version": "3.6.10"
  }
 },
 "nbformat": 4,
 "nbformat_minor": 4
}
