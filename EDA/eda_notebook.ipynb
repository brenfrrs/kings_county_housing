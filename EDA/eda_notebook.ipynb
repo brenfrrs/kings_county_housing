{
 "cells": [
  {
   "cell_type": "code",
   "execution_count": 1,
   "metadata": {},
   "outputs": [],
   "source": [
    "import pandas as pd\n",
    "import numpy as np\n",
    "import matplotlib.pyplot as plt\n",
    "import seaborn as sns\n",
    "\n",
    "%matplotlib inline"
   ]
  },
  {
   "cell_type": "markdown",
   "metadata": {},
   "source": [
    "# Importing and Cleaning"
   ]
  },
  {
   "cell_type": "code",
   "execution_count": 48,
   "metadata": {},
   "outputs": [],
   "source": [
    "def clean_data(dataframe):\n",
    "    dataframe.drop(columns='Unnamed: 0', inplace=True)\n",
    "    dataframe['date'] = pd.to_datetime(dataframe['date'])\n",
    "\n",
    "    return dataframe.head(5)\n",
    "    "
   ]
  },
  {
   "cell_type": "code",
   "execution_count": 49,
   "metadata": {},
   "outputs": [],
   "source": [
    "def no_bedrooms(dataframe, df2):\n",
    "    index=dataframe.loc[dataframe.bedrooms == 0].index.to_list()\n",
    "    dataframe.drop(dataframe.index[[index]], inplace=True)\n",
    "    frames= [dataframe, df2]\n",
    "    dataframe = pd.concat(frames)\n",
    "    print(dataframe.shape)\n",
    "    return dataframe\n",
    "\n",
    "def price_distribution(dataframe):\n",
    "    fig, ax = plt.subplots(figsize=(12,5))\n",
    "    ax.hist(dataframe['price'], bins=100);\n",
    "    ax.set_title('Housing Prices');"
   ]
  },
  {
   "cell_type": "code",
   "execution_count": 50,
   "metadata": {},
   "outputs": [
    {
     "name": "stdout",
     "output_type": "stream",
     "text": [
      "(17290, 21)\n"
     ]
    },
    {
     "name": "stderr",
     "output_type": "stream",
     "text": [
      "/Users/brendanferris/opt/anaconda3/envs/learn-env/lib/python3.6/site-packages/pandas/core/indexes/base.py:4291: FutureWarning: Using a non-tuple sequence for multidimensional indexing is deprecated; use `arr[tuple(seq)]` instead of `arr[seq]`. In the future this will be interpreted as an array index, `arr[np.array(seq)]`, which will result either in an error or a different result.\n",
      "  result = getitem(key)\n"
     ]
    },
    {
     "data": {
      "text/html": [
       "<div>\n",
       "<style scoped>\n",
       "    .dataframe tbody tr th:only-of-type {\n",
       "        vertical-align: middle;\n",
       "    }\n",
       "\n",
       "    .dataframe tbody tr th {\n",
       "        vertical-align: top;\n",
       "    }\n",
       "\n",
       "    .dataframe thead th {\n",
       "        text-align: right;\n",
       "    }\n",
       "</style>\n",
       "<table border=\"1\" class=\"dataframe\">\n",
       "  <thead>\n",
       "    <tr style=\"text-align: right;\">\n",
       "      <th></th>\n",
       "      <th>id</th>\n",
       "      <th>date</th>\n",
       "      <th>price</th>\n",
       "      <th>bedrooms</th>\n",
       "      <th>bathrooms</th>\n",
       "      <th>sqft_living</th>\n",
       "      <th>sqft_lot</th>\n",
       "      <th>floors</th>\n",
       "      <th>waterfront</th>\n",
       "      <th>view</th>\n",
       "      <th>...</th>\n",
       "      <th>grade</th>\n",
       "      <th>sqft_above</th>\n",
       "      <th>sqft_basement</th>\n",
       "      <th>yr_built</th>\n",
       "      <th>yr_renovated</th>\n",
       "      <th>zipcode</th>\n",
       "      <th>lat</th>\n",
       "      <th>long</th>\n",
       "      <th>sqft_living15</th>\n",
       "      <th>sqft_lot15</th>\n",
       "    </tr>\n",
       "  </thead>\n",
       "  <tbody>\n",
       "    <tr>\n",
       "      <th>0</th>\n",
       "      <td>2591820310</td>\n",
       "      <td>2014-10-06</td>\n",
       "      <td>365000.0</td>\n",
       "      <td>4</td>\n",
       "      <td>2.25</td>\n",
       "      <td>2070</td>\n",
       "      <td>8893</td>\n",
       "      <td>2.0</td>\n",
       "      <td>0</td>\n",
       "      <td>0</td>\n",
       "      <td>...</td>\n",
       "      <td>8</td>\n",
       "      <td>2070</td>\n",
       "      <td>0</td>\n",
       "      <td>1986</td>\n",
       "      <td>0</td>\n",
       "      <td>98058</td>\n",
       "      <td>47.4388</td>\n",
       "      <td>-122.162</td>\n",
       "      <td>2390</td>\n",
       "      <td>7700</td>\n",
       "    </tr>\n",
       "    <tr>\n",
       "      <th>1</th>\n",
       "      <td>7974200820</td>\n",
       "      <td>2014-08-21</td>\n",
       "      <td>865000.0</td>\n",
       "      <td>5</td>\n",
       "      <td>3.00</td>\n",
       "      <td>2900</td>\n",
       "      <td>6730</td>\n",
       "      <td>1.0</td>\n",
       "      <td>0</td>\n",
       "      <td>0</td>\n",
       "      <td>...</td>\n",
       "      <td>8</td>\n",
       "      <td>1830</td>\n",
       "      <td>1070</td>\n",
       "      <td>1977</td>\n",
       "      <td>0</td>\n",
       "      <td>98115</td>\n",
       "      <td>47.6784</td>\n",
       "      <td>-122.285</td>\n",
       "      <td>2370</td>\n",
       "      <td>6283</td>\n",
       "    </tr>\n",
       "    <tr>\n",
       "      <th>2</th>\n",
       "      <td>7701450110</td>\n",
       "      <td>2014-08-15</td>\n",
       "      <td>1038000.0</td>\n",
       "      <td>4</td>\n",
       "      <td>2.50</td>\n",
       "      <td>3770</td>\n",
       "      <td>10893</td>\n",
       "      <td>2.0</td>\n",
       "      <td>0</td>\n",
       "      <td>2</td>\n",
       "      <td>...</td>\n",
       "      <td>11</td>\n",
       "      <td>3770</td>\n",
       "      <td>0</td>\n",
       "      <td>1997</td>\n",
       "      <td>0</td>\n",
       "      <td>98006</td>\n",
       "      <td>47.5646</td>\n",
       "      <td>-122.129</td>\n",
       "      <td>3710</td>\n",
       "      <td>9685</td>\n",
       "    </tr>\n",
       "    <tr>\n",
       "      <th>3</th>\n",
       "      <td>9522300010</td>\n",
       "      <td>2015-03-31</td>\n",
       "      <td>1490000.0</td>\n",
       "      <td>3</td>\n",
       "      <td>3.50</td>\n",
       "      <td>4560</td>\n",
       "      <td>14608</td>\n",
       "      <td>2.0</td>\n",
       "      <td>0</td>\n",
       "      <td>2</td>\n",
       "      <td>...</td>\n",
       "      <td>12</td>\n",
       "      <td>4560</td>\n",
       "      <td>0</td>\n",
       "      <td>1990</td>\n",
       "      <td>0</td>\n",
       "      <td>98034</td>\n",
       "      <td>47.6995</td>\n",
       "      <td>-122.228</td>\n",
       "      <td>4050</td>\n",
       "      <td>14226</td>\n",
       "    </tr>\n",
       "    <tr>\n",
       "      <th>4</th>\n",
       "      <td>9510861140</td>\n",
       "      <td>2014-07-14</td>\n",
       "      <td>711000.0</td>\n",
       "      <td>3</td>\n",
       "      <td>2.50</td>\n",
       "      <td>2550</td>\n",
       "      <td>5376</td>\n",
       "      <td>2.0</td>\n",
       "      <td>0</td>\n",
       "      <td>0</td>\n",
       "      <td>...</td>\n",
       "      <td>9</td>\n",
       "      <td>2550</td>\n",
       "      <td>0</td>\n",
       "      <td>2004</td>\n",
       "      <td>0</td>\n",
       "      <td>98052</td>\n",
       "      <td>47.6647</td>\n",
       "      <td>-122.083</td>\n",
       "      <td>2250</td>\n",
       "      <td>4050</td>\n",
       "    </tr>\n",
       "    <tr>\n",
       "      <th>...</th>\n",
       "      <td>...</td>\n",
       "      <td>...</td>\n",
       "      <td>...</td>\n",
       "      <td>...</td>\n",
       "      <td>...</td>\n",
       "      <td>...</td>\n",
       "      <td>...</td>\n",
       "      <td>...</td>\n",
       "      <td>...</td>\n",
       "      <td>...</td>\n",
       "      <td>...</td>\n",
       "      <td>...</td>\n",
       "      <td>...</td>\n",
       "      <td>...</td>\n",
       "      <td>...</td>\n",
       "      <td>...</td>\n",
       "      <td>...</td>\n",
       "      <td>...</td>\n",
       "      <td>...</td>\n",
       "      <td>...</td>\n",
       "      <td>...</td>\n",
       "    </tr>\n",
       "    <tr>\n",
       "      <th>7</th>\n",
       "      <td>2954400190</td>\n",
       "      <td>2014-06-24</td>\n",
       "      <td>1295650.0</td>\n",
       "      <td>4</td>\n",
       "      <td>4.50</td>\n",
       "      <td>4810</td>\n",
       "      <td>28008</td>\n",
       "      <td>2.0</td>\n",
       "      <td>0</td>\n",
       "      <td>0</td>\n",
       "      <td>...</td>\n",
       "      <td>12</td>\n",
       "      <td>4810</td>\n",
       "      <td>0</td>\n",
       "      <td>1990</td>\n",
       "      <td>0</td>\n",
       "      <td>98053</td>\n",
       "      <td>47.6642</td>\n",
       "      <td>-122.069</td>\n",
       "      <td>4740</td>\n",
       "      <td>35061</td>\n",
       "    </tr>\n",
       "    <tr>\n",
       "      <th>8</th>\n",
       "      <td>3980300371</td>\n",
       "      <td>2014-09-26</td>\n",
       "      <td>142000.0</td>\n",
       "      <td>1</td>\n",
       "      <td>0.75</td>\n",
       "      <td>290</td>\n",
       "      <td>20875</td>\n",
       "      <td>1.0</td>\n",
       "      <td>0</td>\n",
       "      <td>0</td>\n",
       "      <td>...</td>\n",
       "      <td>1</td>\n",
       "      <td>290</td>\n",
       "      <td>0</td>\n",
       "      <td>1954</td>\n",
       "      <td>0</td>\n",
       "      <td>98024</td>\n",
       "      <td>47.5308</td>\n",
       "      <td>-121.888</td>\n",
       "      <td>1620</td>\n",
       "      <td>22850</td>\n",
       "    </tr>\n",
       "    <tr>\n",
       "      <th>9</th>\n",
       "      <td>2310060040</td>\n",
       "      <td>2014-09-25</td>\n",
       "      <td>240000.0</td>\n",
       "      <td>4</td>\n",
       "      <td>2.50</td>\n",
       "      <td>1810</td>\n",
       "      <td>5669</td>\n",
       "      <td>2.0</td>\n",
       "      <td>0</td>\n",
       "      <td>0</td>\n",
       "      <td>...</td>\n",
       "      <td>7</td>\n",
       "      <td>1810</td>\n",
       "      <td>0</td>\n",
       "      <td>2003</td>\n",
       "      <td>0</td>\n",
       "      <td>98038</td>\n",
       "      <td>47.3493</td>\n",
       "      <td>-122.053</td>\n",
       "      <td>1810</td>\n",
       "      <td>5685</td>\n",
       "    </tr>\n",
       "    <tr>\n",
       "      <th>10</th>\n",
       "      <td>6896300380</td>\n",
       "      <td>2014-10-02</td>\n",
       "      <td>228000.0</td>\n",
       "      <td>2</td>\n",
       "      <td>1.00</td>\n",
       "      <td>390</td>\n",
       "      <td>5900</td>\n",
       "      <td>1.0</td>\n",
       "      <td>0</td>\n",
       "      <td>0</td>\n",
       "      <td>...</td>\n",
       "      <td>4</td>\n",
       "      <td>390</td>\n",
       "      <td>0</td>\n",
       "      <td>1953</td>\n",
       "      <td>0</td>\n",
       "      <td>98118</td>\n",
       "      <td>47.5260</td>\n",
       "      <td>-122.261</td>\n",
       "      <td>2170</td>\n",
       "      <td>6000</td>\n",
       "    </tr>\n",
       "    <tr>\n",
       "      <th>11</th>\n",
       "      <td>7849202299</td>\n",
       "      <td>2015-02-18</td>\n",
       "      <td>320000.0</td>\n",
       "      <td>4</td>\n",
       "      <td>2.50</td>\n",
       "      <td>1490</td>\n",
       "      <td>7111</td>\n",
       "      <td>2.0</td>\n",
       "      <td>0</td>\n",
       "      <td>0</td>\n",
       "      <td>...</td>\n",
       "      <td>7</td>\n",
       "      <td>1490</td>\n",
       "      <td>0</td>\n",
       "      <td>1999</td>\n",
       "      <td>0</td>\n",
       "      <td>98065</td>\n",
       "      <td>47.5261</td>\n",
       "      <td>-121.826</td>\n",
       "      <td>1500</td>\n",
       "      <td>4675</td>\n",
       "    </tr>\n",
       "  </tbody>\n",
       "</table>\n",
       "<p>17290 rows × 21 columns</p>\n",
       "</div>"
      ],
      "text/plain": [
       "            id       date      price  bedrooms  bathrooms  sqft_living  \\\n",
       "0   2591820310 2014-10-06   365000.0         4       2.25         2070   \n",
       "1   7974200820 2014-08-21   865000.0         5       3.00         2900   \n",
       "2   7701450110 2014-08-15  1038000.0         4       2.50         3770   \n",
       "3   9522300010 2015-03-31  1490000.0         3       3.50         4560   \n",
       "4   9510861140 2014-07-14   711000.0         3       2.50         2550   \n",
       "..         ...        ...        ...       ...        ...          ...   \n",
       "7   2954400190 2014-06-24  1295650.0         4       4.50         4810   \n",
       "8   3980300371 2014-09-26   142000.0         1       0.75          290   \n",
       "9   2310060040 2014-09-25   240000.0         4       2.50         1810   \n",
       "10  6896300380 2014-10-02   228000.0         2       1.00          390   \n",
       "11  7849202299 2015-02-18   320000.0         4       2.50         1490   \n",
       "\n",
       "    sqft_lot  floors  waterfront  view  ...  grade  sqft_above  sqft_basement  \\\n",
       "0       8893     2.0           0     0  ...      8        2070              0   \n",
       "1       6730     1.0           0     0  ...      8        1830           1070   \n",
       "2      10893     2.0           0     2  ...     11        3770              0   \n",
       "3      14608     2.0           0     2  ...     12        4560              0   \n",
       "4       5376     2.0           0     0  ...      9        2550              0   \n",
       "..       ...     ...         ...   ...  ...    ...         ...            ...   \n",
       "7      28008     2.0           0     0  ...     12        4810              0   \n",
       "8      20875     1.0           0     0  ...      1         290              0   \n",
       "9       5669     2.0           0     0  ...      7        1810              0   \n",
       "10      5900     1.0           0     0  ...      4         390              0   \n",
       "11      7111     2.0           0     0  ...      7        1490              0   \n",
       "\n",
       "    yr_built  yr_renovated  zipcode      lat     long  sqft_living15  \\\n",
       "0       1986             0    98058  47.4388 -122.162           2390   \n",
       "1       1977             0    98115  47.6784 -122.285           2370   \n",
       "2       1997             0    98006  47.5646 -122.129           3710   \n",
       "3       1990             0    98034  47.6995 -122.228           4050   \n",
       "4       2004             0    98052  47.6647 -122.083           2250   \n",
       "..       ...           ...      ...      ...      ...            ...   \n",
       "7       1990             0    98053  47.6642 -122.069           4740   \n",
       "8       1954             0    98024  47.5308 -121.888           1620   \n",
       "9       2003             0    98038  47.3493 -122.053           1810   \n",
       "10      1953             0    98118  47.5260 -122.261           2170   \n",
       "11      1999             0    98065  47.5261 -121.826           1500   \n",
       "\n",
       "    sqft_lot15  \n",
       "0         7700  \n",
       "1         6283  \n",
       "2         9685  \n",
       "3        14226  \n",
       "4         4050  \n",
       "..         ...  \n",
       "7        35061  \n",
       "8        22850  \n",
       "9         5685  \n",
       "10        6000  \n",
       "11        4675  \n",
       "\n",
       "[17290 rows x 21 columns]"
      ]
     },
     "execution_count": 50,
     "metadata": {},
     "output_type": "execute_result"
    }
   ],
   "source": [
    "training_data = pd.read_csv('/Users/brendanferris/Desktop/kings_county_housing/kc_house_data_train.csv')\n",
    "missing_vals = pd.read_csv('bedroomsfilled.csv')\n",
    "holdout_data = pd.read_csv('/Users/brendanferris/Desktop/kings_county_housing/kc_house_data_train.csv')\n",
    "clean_data(training_data)\n",
    "clean_data(missing_vals)\n",
    "training_data = no_bedrooms(training_data, missing_vals)\n",
    "training_data"
   ]
  },
  {
   "cell_type": "markdown",
   "metadata": {},
   "source": [
    "## Data without price"
   ]
  },
  {
   "cell_type": "code",
   "execution_count": 53,
   "metadata": {},
   "outputs": [
    {
     "data": {
      "text/html": [
       "<div>\n",
       "<style scoped>\n",
       "    .dataframe tbody tr th:only-of-type {\n",
       "        vertical-align: middle;\n",
       "    }\n",
       "\n",
       "    .dataframe tbody tr th {\n",
       "        vertical-align: top;\n",
       "    }\n",
       "\n",
       "    .dataframe thead th {\n",
       "        text-align: right;\n",
       "    }\n",
       "</style>\n",
       "<table border=\"1\" class=\"dataframe\">\n",
       "  <thead>\n",
       "    <tr style=\"text-align: right;\">\n",
       "      <th></th>\n",
       "      <th>id</th>\n",
       "      <th>date</th>\n",
       "      <th>bedrooms</th>\n",
       "      <th>bathrooms</th>\n",
       "      <th>sqft_living</th>\n",
       "      <th>sqft_lot</th>\n",
       "      <th>floors</th>\n",
       "      <th>waterfront</th>\n",
       "      <th>view</th>\n",
       "      <th>condition</th>\n",
       "      <th>grade</th>\n",
       "      <th>sqft_above</th>\n",
       "      <th>sqft_basement</th>\n",
       "      <th>yr_built</th>\n",
       "      <th>yr_renovated</th>\n",
       "      <th>zipcode</th>\n",
       "      <th>lat</th>\n",
       "      <th>long</th>\n",
       "      <th>sqft_living15</th>\n",
       "      <th>sqft_lot15</th>\n",
       "    </tr>\n",
       "  </thead>\n",
       "  <tbody>\n",
       "    <tr>\n",
       "      <th>0</th>\n",
       "      <td>2591820310</td>\n",
       "      <td>2014-10-06</td>\n",
       "      <td>4</td>\n",
       "      <td>2.25</td>\n",
       "      <td>2070</td>\n",
       "      <td>8893</td>\n",
       "      <td>2.0</td>\n",
       "      <td>0</td>\n",
       "      <td>0</td>\n",
       "      <td>4</td>\n",
       "      <td>8</td>\n",
       "      <td>2070</td>\n",
       "      <td>0</td>\n",
       "      <td>1986</td>\n",
       "      <td>0</td>\n",
       "      <td>98058</td>\n",
       "      <td>47.4388</td>\n",
       "      <td>-122.162</td>\n",
       "      <td>2390</td>\n",
       "      <td>7700</td>\n",
       "    </tr>\n",
       "    <tr>\n",
       "      <th>1</th>\n",
       "      <td>7974200820</td>\n",
       "      <td>2014-08-21</td>\n",
       "      <td>5</td>\n",
       "      <td>3.00</td>\n",
       "      <td>2900</td>\n",
       "      <td>6730</td>\n",
       "      <td>1.0</td>\n",
       "      <td>0</td>\n",
       "      <td>0</td>\n",
       "      <td>5</td>\n",
       "      <td>8</td>\n",
       "      <td>1830</td>\n",
       "      <td>1070</td>\n",
       "      <td>1977</td>\n",
       "      <td>0</td>\n",
       "      <td>98115</td>\n",
       "      <td>47.6784</td>\n",
       "      <td>-122.285</td>\n",
       "      <td>2370</td>\n",
       "      <td>6283</td>\n",
       "    </tr>\n",
       "  </tbody>\n",
       "</table>\n",
       "</div>"
      ],
      "text/plain": [
       "           id       date  bedrooms  bathrooms  sqft_living  sqft_lot  floors  \\\n",
       "0  2591820310 2014-10-06         4       2.25         2070      8893     2.0   \n",
       "1  7974200820 2014-08-21         5       3.00         2900      6730     1.0   \n",
       "\n",
       "   waterfront  view  condition  grade  sqft_above  sqft_basement  yr_built  \\\n",
       "0           0     0          4      8        2070              0      1986   \n",
       "1           0     0          5      8        1830           1070      1977   \n",
       "\n",
       "   yr_renovated  zipcode      lat     long  sqft_living15  sqft_lot15  \n",
       "0             0    98058  47.4388 -122.162           2390        7700  \n",
       "1             0    98115  47.6784 -122.285           2370        6283  "
      ]
     },
     "execution_count": 53,
     "metadata": {},
     "output_type": "execute_result"
    }
   ],
   "source": [
    "data_pred = training_data[['id',\n",
    " 'date',\n",
    " 'bedrooms',\n",
    " 'bathrooms',\n",
    " 'sqft_living',\n",
    " 'sqft_lot',\n",
    " 'floors',\n",
    " 'waterfront',\n",
    " 'view',\n",
    " 'condition',\n",
    " 'grade',\n",
    " 'sqft_above',\n",
    " 'sqft_basement',\n",
    " 'yr_built',\n",
    " 'yr_renovated',\n",
    " 'zipcode',\n",
    " 'lat',\n",
    " 'long',\n",
    " 'sqft_living15',\n",
    " 'sqft_lot15']]\n",
    "\n",
    "data_pred.head(2)"
   ]
  },
  {
   "cell_type": "code",
   "execution_count": 55,
   "metadata": {},
   "outputs": [
    {
     "data": {
      "image/png": "[encoded data removed]",
      "text/plain": [
       "<Figure size 432x432 with 4 Axes>"
      ]
     },
     "metadata": {
      "needs_background": "light"
     },
     "output_type": "display_data"
    }
   ],
   "source": [
    "data_pred[['bedrooms', 'floors', 'bathrooms', 'grade']].hist(figsize  = [6, 6]); "
   ]
  },
  {
   "cell_type": "code",
   "execution_count": 56,
   "metadata": {},
   "outputs": [
    {
     "data": {
      "image/png": "[encoded data removed]",
      "text/plain": [
       "<Figure size 432x432 with 4 Axes>"
      ]
     },
     "metadata": {
      "needs_background": "light"
     },
     "output_type": "display_data"
    }
   ],
   "source": [
    "data_pred[['sqft_living15', 'sqft_lot15', 'sqft_above', 'sqft_living']].hist(figsize  = [6, 6]); "
   ]
  },
  {
   "cell_type": "markdown",
   "metadata": {},
   "source": [
    "# Log normalizing sqft"
   ]
  },
  {
   "cell_type": "code",
   "execution_count": 67,
   "metadata": {},
   "outputs": [
    {
     "data": {
      "image/png": "[encoded data removed]",
      "text/plain": [
       "<Figure size 432x288 with 1 Axes>"
      ]
     },
     "metadata": {
      "needs_background": "light"
     },
     "output_type": "display_data"
    }
   ],
   "source": [
    "data_log = pd.DataFrame([])\n",
    "data_log['above'] = np.log(data_pred['sqft_above'])\n",
    "data_log['living15'] = np.log(data_pred['sqft_living15'])\n",
    "data_log['lot15'] = np.log(data_pred['sqft_lot15'])\n",
    "data_log['living'] = np.log(data_pred['sqft_living'])\n",
    "sns.distplot(data_log['above']);\n",
    "sns.distplot(data_log['living']);\n",
    "sns.distplot(data_log['living15']);\n",
    "sns.distplot(data_log['lot15']);"
   ]
  },
  {
   "cell_type": "markdown",
   "metadata": {},
   "source": [
    "# Multicollinearity of features"
   ]
  },
  {
   "cell_type": "code",
   "execution_count": 7,
   "metadata": {},
   "outputs": [],
   "source": [
    "def multicolinear_features(data):\n",
    "    df=data.corr().abs().stack().reset_index().sort_values(0, ascending=False)\n",
    "    df['pairs'] = list(zip(df.level_0, df.level_1))\n",
    "    df.set_index(['pairs'], inplace = True)\n",
    "    df.drop(columns=['level_1', 'level_0'], inplace = True)\n",
    "    df.columns = ['cc']\n",
    "    return df[(df.cc>.75) & (df.cc <1)]"
   ]
  },
  {
   "cell_type": "code",
   "execution_count": 8,
   "metadata": {},
   "outputs": [
    {
     "data": {
      "text/html": [
       "<div>\n",
       "<style scoped>\n",
       "    .dataframe tbody tr th:only-of-type {\n",
       "        vertical-align: middle;\n",
       "    }\n",
       "\n",
       "    .dataframe tbody tr th {\n",
       "        vertical-align: top;\n",
       "    }\n",
       "\n",
       "    .dataframe thead th {\n",
       "        text-align: right;\n",
       "    }\n",
       "</style>\n",
       "<table border=\"1\" class=\"dataframe\">\n",
       "  <thead>\n",
       "    <tr style=\"text-align: right;\">\n",
       "      <th></th>\n",
       "      <th>cc</th>\n",
       "    </tr>\n",
       "    <tr>\n",
       "      <th>pairs</th>\n",
       "      <th></th>\n",
       "    </tr>\n",
       "  </thead>\n",
       "  <tbody>\n",
       "    <tr>\n",
       "      <th>(sqft_above, sqft_living)</th>\n",
       "      <td>0.876696</td>\n",
       "    </tr>\n",
       "    <tr>\n",
       "      <th>(sqft_living, sqft_above)</th>\n",
       "      <td>0.876696</td>\n",
       "    </tr>\n",
       "    <tr>\n",
       "      <th>(grade, sqft_living)</th>\n",
       "      <td>0.762929</td>\n",
       "    </tr>\n",
       "    <tr>\n",
       "      <th>(sqft_living, grade)</th>\n",
       "      <td>0.762929</td>\n",
       "    </tr>\n",
       "    <tr>\n",
       "      <th>(grade, sqft_above)</th>\n",
       "      <td>0.758247</td>\n",
       "    </tr>\n",
       "    <tr>\n",
       "      <th>(sqft_above, grade)</th>\n",
       "      <td>0.758247</td>\n",
       "    </tr>\n",
       "    <tr>\n",
       "      <th>(sqft_living, bathrooms)</th>\n",
       "      <td>0.755270</td>\n",
       "    </tr>\n",
       "    <tr>\n",
       "      <th>(bathrooms, sqft_living)</th>\n",
       "      <td>0.755270</td>\n",
       "    </tr>\n",
       "    <tr>\n",
       "      <th>(sqft_living, sqft_living15)</th>\n",
       "      <td>0.755066</td>\n",
       "    </tr>\n",
       "    <tr>\n",
       "      <th>(sqft_living15, sqft_living)</th>\n",
       "      <td>0.755066</td>\n",
       "    </tr>\n",
       "  </tbody>\n",
       "</table>\n",
       "</div>"
      ],
      "text/plain": [
       "                                    cc\n",
       "pairs                                 \n",
       "(sqft_above, sqft_living)     0.876696\n",
       "(sqft_living, sqft_above)     0.876696\n",
       "(grade, sqft_living)          0.762929\n",
       "(sqft_living, grade)          0.762929\n",
       "(grade, sqft_above)           0.758247\n",
       "(sqft_above, grade)           0.758247\n",
       "(sqft_living, bathrooms)      0.755270\n",
       "(bathrooms, sqft_living)      0.755270\n",
       "(sqft_living, sqft_living15)  0.755066\n",
       "(sqft_living15, sqft_living)  0.755066"
      ]
     },
     "execution_count": 8,
     "metadata": {},
     "output_type": "execute_result"
    }
   ],
   "source": [
    "multicolinear_features(data_pred)"
   ]
  },
  {
   "cell_type": "markdown",
   "metadata": {},
   "source": [
    "# Checking relationships between features and target"
   ]
  },
  {
   "cell_type": "code",
   "execution_count": 9,
   "metadata": {},
   "outputs": [
    {
     "data": {
      "text/plain": [
       "<matplotlib.axes._subplots.AxesSubplot at 0x7f8bb8becdd8>"
      ]
     },
     "execution_count": 9,
     "metadata": {},
     "output_type": "execute_result"
    },
    {
     "data": {
      "image/png": "[encoded data removed]",
      "text/plain": [
       "<Figure size 432x288 with 1 Axes>"
      ]
     },
     "metadata": {
      "needs_background": "light"
     },
     "output_type": "display_data"
    }
   ],
   "source": [
    "prices = training_data['price']\n",
    "feature = training_data['sqft_above']\n",
    "sns.scatterplot(feature, prices)"
   ]
  },
  {
   "cell_type": "code",
   "execution_count": 10,
   "metadata": {},
   "outputs": [
    {
     "data": {
      "text/plain": [
       "<matplotlib.axes._subplots.AxesSubplot at 0x7f8bb91f9518>"
      ]
     },
     "execution_count": 10,
     "metadata": {},
     "output_type": "execute_result"
    },
    {
     "data": {
      "image/png": "[encoded data removed]",
      "text/plain": [
       "<Figure size 432x288 with 1 Axes>"
      ]
     },
     "metadata": {
      "needs_background": "light"
     },
     "output_type": "display_data"
    }
   ],
   "source": [
    "prices = training_data['price']\n",
    "feature = training_data['sqft_living']\n",
    "sns.scatterplot(feature, prices)"
   ]
  },
  {
   "cell_type": "code",
   "execution_count": 11,
   "metadata": {},
   "outputs": [
    {
     "data": {
      "text/plain": [
       "<matplotlib.axes._subplots.AxesSubplot at 0x7f8bb8f79f28>"
      ]
     },
     "execution_count": 11,
     "metadata": {},
     "output_type": "execute_result"
    },
    {
     "data": {
      "image/png": "[encoded data removed]",
      "text/plain": [
       "<Figure size 432x288 with 1 Axes>"
      ]
     },
     "metadata": {
      "needs_background": "light"
     },
     "output_type": "display_data"
    }
   ],
   "source": [
    "prices = training_data['price']\n",
    "feature = training_data['grade']\n",
    "sns.scatterplot(feature, prices)"
   ]
  },
  {
   "cell_type": "code",
   "execution_count": null,
   "metadata": {},
   "outputs": [],
   "source": []
  },
  {
   "cell_type": "code",
   "execution_count": null,
   "metadata": {},
   "outputs": [],
   "source": []
  },
  {
   "cell_type": "code",
   "execution_count": null,
   "metadata": {},
   "outputs": [],
   "source": []
  },
  {
   "cell_type": "code",
   "execution_count": null,
   "metadata": {},
   "outputs": [],
   "source": []
  },
  {
   "cell_type": "code",
   "execution_count": null,
   "metadata": {},
   "outputs": [],
   "source": []
  },
  {
   "cell_type": "code",
   "execution_count": null,
   "metadata": {},
   "outputs": [],
   "source": []
  },
  {
   "cell_type": "code",
   "execution_count": null,
   "metadata": {},
   "outputs": [],
   "source": []
  },
  {
   "cell_type": "code",
   "execution_count": null,
   "metadata": {},
   "outputs": [],
   "source": []
  },
  {
   "cell_type": "code",
   "execution_count": null,
   "metadata": {},
   "outputs": [],
   "source": []
  },
  {
   "cell_type": "code",
   "execution_count": null,
   "metadata": {},
   "outputs": [],
   "source": []
  },
  {
   "cell_type": "code",
   "execution_count": null,
   "metadata": {},
   "outputs": [],
   "source": []
  },
  {
   "cell_type": "code",
   "execution_count": null,
   "metadata": {},
   "outputs": [],
   "source": []
  },
  {
   "cell_type": "code",
   "execution_count": null,
   "metadata": {},
   "outputs": [],
   "source": []
  },
  {
   "cell_type": "code",
   "execution_count": null,
   "metadata": {},
   "outputs": [],
   "source": []
  },
  {
   "cell_type": "code",
   "execution_count": null,
   "metadata": {},
   "outputs": [],
   "source": []
  },
  {
   "cell_type": "code",
   "execution_count": null,
   "metadata": {},
   "outputs": [],
   "source": []
  },
  {
   "cell_type": "code",
   "execution_count": null,
   "metadata": {},
   "outputs": [],
   "source": []
  },
  {
   "cell_type": "code",
   "execution_count": null,
   "metadata": {},
   "outputs": [],
   "source": []
  },
  {
   "cell_type": "code",
   "execution_count": null,
   "metadata": {},
   "outputs": [],
   "source": []
  },
  {
   "cell_type": "code",
   "execution_count": null,
   "metadata": {},
   "outputs": [],
   "source": []
  },
  {
   "cell_type": "code",
   "execution_count": null,
   "metadata": {},
   "outputs": [],
   "source": []
  },
  {
   "cell_type": "code",
   "execution_count": null,
   "metadata": {},
   "outputs": [],
   "source": []
  },
  {
   "cell_type": "code",
   "execution_count": null,
   "metadata": {},
   "outputs": [],
   "source": []
  },
  {
   "cell_type": "code",
   "execution_count": null,
   "metadata": {},
   "outputs": [],
   "source": []
  }
 ],
 "metadata": {
  "kernelspec": {
   "display_name": "learn-env",
   "language": "python",
   "name": "learn-env"
  },
  "language_info": {
   "codemirror_mode": {
    "name": "ipython",
    "version": 3
   },
   "file_extension": ".py",
   "mimetype": "text/x-python",
   "name": "python",
   "nbconvert_exporter": "python",
   "pygments_lexer": "ipython3",
   "version": "3.6.10"
  }
 },
 "nbformat": 4,
 "nbformat_minor": 4
}
